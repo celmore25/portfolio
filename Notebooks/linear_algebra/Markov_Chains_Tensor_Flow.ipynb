{
 "cells": [
  {
   "cell_type": "markdown",
   "metadata": {},
   "source": [
    "# Markov Chain Implementation - TensorFlow"
   ]
  },
  {
   "cell_type": "code",
   "execution_count": 128,
   "metadata": {
    "ExecuteTime": {
     "end_time": "2020-08-31T19:44:30.291743Z",
     "start_time": "2020-08-31T19:44:25.517901Z"
    }
   },
   "outputs": [],
   "source": [
    "from matplotlib import pyplot as plt\n",
    "import numpy as np\n",
    "import seaborn as sn\n",
    "\n",
    "import tensorflow as tf"
   ]
  },
  {
   "cell_type": "code",
   "execution_count": 2,
   "metadata": {
    "ExecuteTime": {
     "end_time": "2020-08-31T19:04:40.843849Z",
     "start_time": "2020-08-31T19:04:40.832157Z"
    }
   },
   "outputs": [
    {
     "data": {
      "text/plain": [
       "'2.3.0'"
      ]
     },
     "execution_count": 2,
     "metadata": {},
     "output_type": "execute_result"
    }
   ],
   "source": [
    "tf.__version__"
   ]
  },
  {
   "cell_type": "markdown",
   "metadata": {},
   "source": [
    "# TensorFlow Data Types\n",
    "\n",
    "Basic data types for linear algebra are the scaler, vector, matrix, and multidimentional matrix. The following code shows how to do all of this in TF definitions"
   ]
  },
  {
   "cell_type": "code",
   "execution_count": 3,
   "metadata": {
    "ExecuteTime": {
     "end_time": "2020-08-31T19:04:40.899373Z",
     "start_time": "2020-08-31T19:04:40.847049Z"
    }
   },
   "outputs": [
    {
     "data": {
      "text/plain": [
       "<tf.Tensor: shape=(), dtype=float32, numpy=5.0>"
      ]
     },
     "execution_count": 3,
     "metadata": {},
     "output_type": "execute_result"
    }
   ],
   "source": [
    "a = tf.constant(5.0, dtype=tf.float32)\n",
    "a"
   ]
  },
  {
   "cell_type": "code",
   "execution_count": 4,
   "metadata": {
    "ExecuteTime": {
     "end_time": "2020-08-31T19:04:41.165939Z",
     "start_time": "2020-08-31T19:04:41.158782Z"
    }
   },
   "outputs": [
    {
     "data": {
      "text/plain": [
       "<tf.Tensor: shape=(4,), dtype=int32, numpy=array([1, 2, 4, 5], dtype=int32)>"
      ]
     },
     "execution_count": 4,
     "metadata": {},
     "output_type": "execute_result"
    }
   ],
   "source": [
    "x = tf.constant([1,2,4,5])\n",
    "x"
   ]
  },
  {
   "cell_type": "code",
   "execution_count": 5,
   "metadata": {
    "ExecuteTime": {
     "end_time": "2020-08-31T19:04:41.691256Z",
     "start_time": "2020-08-31T19:04:41.684592Z"
    }
   },
   "outputs": [
    {
     "data": {
      "text/plain": [
       "<tf.Tensor: shape=(2, 4), dtype=int32, numpy=\n",
       "array([[1, 2, 3, 4],\n",
       "       [5, 6, 7, 8]], dtype=int32)>"
      ]
     },
     "execution_count": 5,
     "metadata": {},
     "output_type": "execute_result"
    }
   ],
   "source": [
    "y = tf.constant([[1,2,3,4],\n",
    "                 [5,6,7,8]]) \n",
    "y"
   ]
  },
  {
   "cell_type": "code",
   "execution_count": 6,
   "metadata": {
    "ExecuteTime": {
     "end_time": "2020-08-31T19:04:45.953834Z",
     "start_time": "2020-08-31T19:04:45.946424Z"
    }
   },
   "outputs": [
    {
     "data": {
      "text/plain": [
       "<tf.Tensor: shape=(9,), dtype=int32, numpy=array([1, 2, 3, 4, 5, 6, 7, 8, 9], dtype=int32)>"
      ]
     },
     "execution_count": 6,
     "metadata": {},
     "output_type": "execute_result"
    }
   ],
   "source": [
    "sequence = tf.range(start = 1,limit = 10, delta = 1)\n",
    "sequence"
   ]
  },
  {
   "cell_type": "code",
   "execution_count": 7,
   "metadata": {
    "ExecuteTime": {
     "end_time": "2020-08-31T19:04:45.970406Z",
     "start_time": "2020-08-31T19:04:45.957526Z"
    }
   },
   "outputs": [
    {
     "data": {
      "text/plain": [
       "<tf.Tensor: shape=(2, 3, 2), dtype=int32, numpy=\n",
       "array([[[ 1,  2],\n",
       "        [ 3,  4],\n",
       "        [ 5,  6]],\n",
       "\n",
       "       [[ 7,  8],\n",
       "        [ 9, 10],\n",
       "        [11, 12]]], dtype=int32)>"
      ]
     },
     "execution_count": 7,
     "metadata": {},
     "output_type": "execute_result"
    }
   ],
   "source": [
    "z = tf.constant(tf.range(1,13), shape = (2,3,2))\n",
    "z"
   ]
  },
  {
   "cell_type": "code",
   "execution_count": 8,
   "metadata": {
    "ExecuteTime": {
     "end_time": "2020-08-31T19:04:45.995027Z",
     "start_time": "2020-08-31T19:04:45.980620Z"
    }
   },
   "outputs": [
    {
     "data": {
      "text/plain": [
       "<tf.Variable 'Variable:0' shape=(3, 4) dtype=float32, numpy=\n",
       "array([[ 0.,  1.,  2.,  3.],\n",
       "       [ 4.,  5.,  6.,  7.],\n",
       "       [ 8.,  9., 10., 11.]], dtype=float32)>"
      ]
     },
     "execution_count": 8,
     "metadata": {},
     "output_type": "execute_result"
    }
   ],
   "source": [
    "variable_mat = tf.Variable(tf.constant(tf.range(12, dtype = tf.float32), shape = (3,4)))\n",
    "variable_mat"
   ]
  },
  {
   "cell_type": "markdown",
   "metadata": {},
   "source": [
    "# Business Case for Markov Chains\n",
    "\n",
    "The business case that will be explored here is the Kanky Loan system. In this system there are 4 types of loans:\n",
    "\n",
    "1. Good Loans - outstanding money which will most likely be paid out\n",
    "1. Risky Loans - outstanding money which will most likely NOT be paid out\n",
    "1. Paid Up Loans - loans which were paid out\n",
    "1. Bad Loans -  loans which were not paid out\n",
    "\n",
    "The interations of the loans can be described as the picture below.\n",
    "\n",
    "<img src=\"loans_int.png\" alt=\"Drawing\" style=\"width: 600px;\"/>\n",
    "\n",
    "The system describes a time transient system in which certain states are constantly changing. This type of system is common across many industries and use cases. \n",
    "\n",
    "Markov chains are a great way to model this system because they allow for someone to specify the two values 1) state and 2) probability in a linear fashion. The following code implements this system from scratch in TensorFlow."
   ]
  },
  {
   "cell_type": "markdown",
   "metadata": {},
   "source": [
    "# Markov Chain Application"
   ]
  },
  {
   "cell_type": "markdown",
   "metadata": {},
   "source": [
    "## Defining Base Vector and Matrix\n",
    "X will be the probability matrix and y will be the state vector in this case. y is defined as [Good, Risky, Bad, Paid up]"
   ]
  },
  {
   "cell_type": "code",
   "execution_count": 9,
   "metadata": {
    "ExecuteTime": {
     "end_time": "2020-08-31T19:04:46.045463Z",
     "start_time": "2020-08-31T19:04:46.038277Z"
    }
   },
   "outputs": [],
   "source": [
    "X = [\n",
    "     [0.7 , 0.05, 0.03, 0.22,],\n",
    "     [0.05, 0.55, 0.35, 0.05,],\n",
    "     [0.0 , 0.0 , 1.0 , 0.0 ,],\n",
    "     [0.0 , 0.0 , 0.0 , 1.0 ,],\n",
    "    ]\n",
    "X = tf.transpose(tf.constant(X))\n",
    "y = tf.constant([0.5, 0.5, 0.0, 0.0], shape = (4,1))"
   ]
  },
  {
   "cell_type": "markdown",
   "metadata": {},
   "source": [
    "## Taking a Markov Step"
   ]
  },
  {
   "cell_type": "code",
   "execution_count": 10,
   "metadata": {
    "ExecuteTime": {
     "end_time": "2020-08-31T19:04:46.085573Z",
     "start_time": "2020-08-31T19:04:46.073071Z"
    }
   },
   "outputs": [
    {
     "data": {
      "text/plain": [
       "array([[0.375],\n",
       "       [0.3  ],\n",
       "       [0.19 ],\n",
       "       [0.135]], dtype=float32)"
      ]
     },
     "execution_count": 10,
     "metadata": {},
     "output_type": "execute_result"
    }
   ],
   "source": [
    "y_new = tf.matmul(a=X, b=y)\n",
    "y_new.numpy()"
   ]
  },
  {
   "cell_type": "markdown",
   "metadata": {},
   "source": [
    "## Simulating All Loan Pay Outs"
   ]
  },
  {
   "cell_type": "code",
   "execution_count": 70,
   "metadata": {
    "ExecuteTime": {
     "end_time": "2020-08-31T19:20:02.293220Z",
     "start_time": "2020-08-31T19:20:02.276656Z"
    }
   },
   "outputs": [],
   "source": [
    "def simulate_loan_markov_chain(X, y):\n",
    "\n",
    "    bad = tf.constant(y[2])\n",
    "    paid_up = tf.constant(y[3])\n",
    "    \n",
    "    while (y[0].numpy()[0] > 1e-4 and y[1].numpy()[0] > 1e-3):\n",
    "        \n",
    "        y = tf.matmul(a=X, b=y)\n",
    "        \n",
    "        bad = tf.concat([bad, y[2]],0)\n",
    "        paid_up = tf.concat([paid_up, y[3]],0)\n",
    "        \n",
    "    return bad, paid_up\n",
    "\n",
    "bad, paid_up = simulate_loan_markov_chain(X, y)"
   ]
  },
  {
   "cell_type": "code",
   "execution_count": 71,
   "metadata": {
    "ExecuteTime": {
     "end_time": "2020-08-31T19:20:03.248153Z",
     "start_time": "2020-08-31T19:20:03.075336Z"
    }
   },
   "outputs": [
    {
     "data": {
      "image/png": "[encoded data removed]",
      "text/plain": [
       "<Figure size 432x288 with 1 Axes>"
      ]
     },
     "metadata": {
      "needs_background": "light"
     },
     "output_type": "display_data"
    }
   ],
   "source": [
    "fig, ax = plt.subplots()\n",
    "ax.plot(bad, label='Bad')\n",
    "ax.plot(paid_up, label='Paid Up')\n",
    "ax.legend()\n",
    "ax.set_xlabel('Time Steps')\n",
    "ax.set_ylabel('Percent of Loan Portfolio')\n",
    "plt.show()"
   ]
  },
  {
   "cell_type": "markdown",
   "metadata": {},
   "source": [
    "# Markov Chain Monte Carlo\n",
    "\n",
    "The addition of random vairance to the Markov Chain model can be a powerful tool to understand how time series steps can be influenced from a probabilistic perspective."
   ]
  },
  {
   "cell_type": "markdown",
   "metadata": {},
   "source": [
    "## Defining Standard Deviations"
   ]
  },
  {
   "cell_type": "code",
   "execution_count": 13,
   "metadata": {
    "ExecuteTime": {
     "end_time": "2020-08-31T19:04:46.464223Z",
     "start_time": "2020-08-31T19:04:46.453401Z"
    }
   },
   "outputs": [],
   "source": [
    "X = [\n",
    "     [0.7 , 0.05, 0.03, 0.22,],\n",
    "     [0.05, 0.55, 0.35, 0.05,],\n",
    "     [0.0 , 0.0 , 1.0 , 0.0 ,],\n",
    "     [0.0 , 0.0 , 0.0 , 1.0 ,],\n",
    "    ]\n",
    "X = tf.transpose(tf.constant(X))\n",
    "X_std = [\n",
    "     [0.1 , 0.01, 0.01, 0.05,],\n",
    "     [0.01, 0.1 , 0.05, 0.01,],\n",
    "     [0.0 , 0.0 , 0.0 , 0.0 ,],\n",
    "     [0.0 , 0.0 , 0.0 , 0.0 ,],\n",
    "    ]\n",
    "X_std = tf.transpose(tf.constant(X_std))\n",
    "y = tf.constant([0.5, 0.5, 0.0, 0.0], shape = (4,1))"
   ]
  },
  {
   "cell_type": "code",
   "execution_count": 62,
   "metadata": {
    "ExecuteTime": {
     "end_time": "2020-08-31T19:15:27.075379Z",
     "start_time": "2020-08-31T19:15:27.067832Z"
    }
   },
   "outputs": [
    {
     "data": {
      "text/plain": [
       "<tf.Tensor: shape=(4, 4), dtype=float32, numpy=\n",
       "array([[0.7045243 , 0.05196859, 0.        , 0.        ],\n",
       "       [0.04436144, 0.51158106, 0.        , 0.        ],\n",
       "       [0.04080195, 0.38617215, 1.        , 0.        ],\n",
       "       [0.21031228, 0.05027815, 0.        , 1.        ]], dtype=float32)>"
      ]
     },
     "execution_count": 62,
     "metadata": {},
     "output_type": "execute_result"
    }
   ],
   "source": [
    "X_rand = np.random.normal(0, 1, X.shape) * X_std + X\n",
    "X_rand = tf.keras.utils.normalize(\n",
    "    X_rand, axis=0, order=1\n",
    ")\n",
    "X_rand"
   ]
  },
  {
   "cell_type": "markdown",
   "metadata": {},
   "source": [
    "## Simulation Function"
   ]
  },
  {
   "cell_type": "code",
   "execution_count": 118,
   "metadata": {
    "ExecuteTime": {
     "end_time": "2020-08-31T19:39:53.897073Z",
     "start_time": "2020-08-31T19:39:46.043041Z"
    }
   },
   "outputs": [],
   "source": [
    "def simulate_loan_markov_chain_monte_carlo(X, X_std, y):\n",
    "\n",
    "    bad = tf.constant(y[2])\n",
    "    paid_up = tf.constant(y[3])\n",
    "    \n",
    "    X_rand = np.random.normal(0, 1, X.shape) * X_std + X\n",
    "    X_rand = tf.keras.utils.normalize(\n",
    "        X_rand, axis=0, order=1\n",
    "    )\n",
    "    \n",
    "    while (y[0].numpy()[0] > 1e-4 and y[1].numpy()[0] > 1e-3):\n",
    "        \n",
    "        y = tf.matmul(a=X_rand, b=y)\n",
    "        \n",
    "        bad = tf.concat([bad, y[2]],0)\n",
    "        paid_up = tf.concat([paid_up, y[3]],0)\n",
    "        \n",
    "    return bad, paid_up\n",
    "\n",
    "def mcmc_sampling(X, X_std, y, threads = 10):\n",
    "    \n",
    "    bad_all = tf.Variable(np.zeros(threads))\n",
    "    paid_up_all = tf.Variable(np.zeros(threads))\n",
    "    for thread in range(threads):\n",
    "        bad, paid_up = simulate_loan_markov_chain_monte_carlo(X, X_std, y)\n",
    "        bad_all = bad_all[thread].assign(bad.numpy()[-1])\n",
    "        paid_up_all = paid_up_all[thread].assign(paid_up.numpy()[-1])\n",
    "    return bad_all, paid_up_all\n",
    "\n",
    "bad, paid_up = simulate_loan_markov_chain_monte_carlo(X, X_std, y)\n",
    "bad_all, paid_up_all = mcmc_sampling(X, X_std, y, threads = 1000)"
   ]
  },
  {
   "cell_type": "code",
   "execution_count": 131,
   "metadata": {
    "ExecuteTime": {
     "end_time": "2020-08-31T19:45:28.662682Z",
     "start_time": "2020-08-31T19:45:28.143024Z"
    }
   },
   "outputs": [
    {
     "data": {
      "image/png": "[encoded data removed]",
      "text/plain": [
       "<Figure size 432x288 with 1 Axes>"
      ]
     },
     "metadata": {
      "needs_background": "light"
     },
     "output_type": "display_data"
    },
    {
     "data": {
      "image/png": "[encoded data removed]",
      "text/plain": [
       "<Figure size 432x288 with 1 Axes>"
      ]
     },
     "metadata": {
      "needs_background": "light"
     },
     "output_type": "display_data"
    }
   ],
   "source": [
    "fig, ax = plt.subplots()\n",
    "ax.plot(bad, label='Bad')\n",
    "ax.plot(paid_up, label='Paid Up')\n",
    "ax.legend()\n",
    "ax.set_xlabel('Time Steps')\n",
    "ax.set_ylabel('Percent of Loan Portfolio')\n",
    "ax.set_title('Example MCMC Thread')\n",
    "plt.show()\n",
    "\n",
    "fig, ax = plt.subplots()\n",
    "sn.distplot(bad_all.numpy(), label='Bad', ax=ax)\n",
    "sn.distplot(paid_up_all.numpy(), label='Paid Up', ax=ax)\n",
    "ax.legend()\n",
    "ax.set_ylabel('Density')\n",
    "ax.set_xlabel('Percent of Loan Portfolio')\n",
    "ax.set_title('MCMC Aggregation')\n",
    "plt.show()"
   ]
  }
 ],
 "metadata": {
  "kernelspec": {
   "display_name": "Python 3",
   "language": "python",
   "name": "python3"
  },
  "language_info": {
   "codemirror_mode": {
    "name": "ipython",
    "version": 3
   },
   "file_extension": ".py",
   "mimetype": "text/x-python",
   "name": "python",
   "nbconvert_exporter": "python",
   "pygments_lexer": "ipython3",
   "version": "3.6.8"
  },
  "toc": {
   "base_numbering": 1,
   "nav_menu": {},
   "number_sections": true,
   "sideBar": true,
   "skip_h1_title": false,
   "title_cell": "Table of Contents",
   "title_sidebar": "Contents",
   "toc_cell": false,
   "toc_position": {},
   "toc_section_display": true,
   "toc_window_display": false
  }
 },
 "nbformat": 4,
 "nbformat_minor": 2
}
