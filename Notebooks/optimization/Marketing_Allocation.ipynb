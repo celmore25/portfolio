{
 "cells": [
  {
   "cell_type": "markdown",
   "metadata": {},
   "source": [
    "# Marketing Allocation - Optimization"
   ]
  },
  {
   "cell_type": "code",
   "execution_count": 5,
   "metadata": {
    "ExecuteTime": {
     "end_time": "2020-09-13T21:18:20.276039Z",
     "start_time": "2020-09-13T21:18:20.015902Z"
    }
   },
   "outputs": [],
   "source": [
    "import numpy as np\n",
    "from pyomo.environ import *\n",
    "from matplotlib import pyplot as plt"
   ]
  },
  {
   "cell_type": "markdown",
   "metadata": {},
   "source": [
    "# Business Case\n",
    "\n",
    "A common problem in marketing is the allocation of ad spend. There are various \"channels\" that ads can be purchased in, and they all have various costs and benefits to those costs. For the purposes of this example, let's assume there are only three options - email, search, and social."
   ]
  },
  {
   "cell_type": "markdown",
   "metadata": {},
   "source": [
    "# Solving the Optimization Problem"
   ]
  },
  {
   "cell_type": "markdown",
   "metadata": {},
   "source": [
    "## Ad Buying Profit"
   ]
  },
  {
   "cell_type": "code",
   "execution_count": 22,
   "metadata": {
    "ExecuteTime": {
     "end_time": "2020-09-13T21:47:04.004352Z",
     "start_time": "2020-09-13T21:47:03.999280Z"
    }
   },
   "outputs": [],
   "source": [
    "def sigmoid(x0, y0, c, k, x):\n",
    "    '''\n",
    "    Given the coefficients to a sigmoid and a value x,\n",
    "    this will return the y value. Used for regression.\n",
    "    '''\n",
    "    y = c / (1 + np.exp(-k*(x-x0))) + y0\n",
    "    return y"
   ]
  },
  {
   "cell_type": "code",
   "execution_count": 58,
   "metadata": {
    "ExecuteTime": {
     "end_time": "2020-09-13T21:55:42.270584Z",
     "start_time": "2020-09-13T21:55:42.107213Z"
    }
   },
   "outputs": [
    {
     "data": {
      "image/png": "[encoded data removed]",
      "text/plain": [
       "<Figure size 432x288 with 1 Axes>"
      ]
     },
     "metadata": {
      "needs_background": "light"
     },
     "output_type": "display_data"
    }
   ],
   "source": [
    "x = np.linspace(0,10000)\n",
    "y1 = sigmoid(x0=5000, y0=0, c=1e6, k=2e-3, x=x)\n",
    "y2 = sigmoid(x0=4000, y0=0, c=2e6, k=1e-3, x=x)\n",
    "y3 = sigmoid(x0=6000, y0=0, c=3e6, k=1e-3, x=x)\n",
    "fig, ax = plt.subplots()\n",
    "ax.plot(x, y1)\n",
    "ax.plot(x, y2)\n",
    "ax.plot(x, y3)\n",
    "plt.show()"
   ]
  },
  {
   "cell_type": "markdown",
   "metadata": {},
   "source": [
    "## Optimization Formulation"
   ]
  },
  {
   "cell_type": "code",
   "execution_count": 8,
   "metadata": {
    "ExecuteTime": {
     "end_time": "2020-09-13T21:23:10.122765Z",
     "start_time": "2020-09-13T21:23:10.116755Z"
    }
   },
   "outputs": [],
   "source": [
    "# initialize the model\n",
    "model = ConcreteModel()\n",
    "\n",
    "# declare decision variables\n",
    "model.email = Var(domain=NonNegativeReals)\n",
    "model.social = Var(domain=NonNegativeReals)\n",
    "model.search = Var(domain=NonNegativeReals)\n",
    "\n",
    "# declare objective\n",
    "model.profit = Objective(\n",
    "    expr = 40*model.email,\n",
    "    sense = maximize)\n",
    "\n",
    "# constraints\n",
    "model.budget = Constraint(expr = model.email <= 100)"
   ]
  },
  {
   "cell_type": "markdown",
   "metadata": {},
   "source": [
    "## Optimization Solution"
   ]
  },
  {
   "cell_type": "code",
   "execution_count": 21,
   "metadata": {
    "ExecuteTime": {
     "end_time": "2020-09-13T21:39:17.354685Z",
     "start_time": "2020-09-13T21:39:17.305519Z"
    }
   },
   "outputs": [
    {
     "name": "stdout",
     "output_type": "stream",
     "text": [
      "Profit = $4000.00\n"
     ]
    }
   ],
   "source": [
    "results = SolverFactory('ipopt').solve(model)\n",
    "print(f\"Profit = ${model.profit() :.2f}\")"
   ]
  },
  {
   "cell_type": "code",
   "execution_count": null,
   "metadata": {
    "ExecuteTime": {
     "end_time": "2020-09-13T21:32:02.083305Z",
     "start_time": "2020-09-13T21:32:02.078177Z"
    }
   },
   "outputs": [],
   "source": []
  },
  {
   "cell_type": "code",
   "execution_count": null,
   "metadata": {},
   "outputs": [],
   "source": []
  }
 ],
 "metadata": {
  "kernelspec": {
   "display_name": "Python 3",
   "language": "python",
   "name": "python3"
  },
  "language_info": {
   "codemirror_mode": {
    "name": "ipython",
    "version": 3
   },
   "file_extension": ".py",
   "mimetype": "text/x-python",
   "name": "python",
   "nbconvert_exporter": "python",
   "pygments_lexer": "ipython3",
   "version": "3.6.8"
  },
  "toc": {
   "base_numbering": 1,
   "nav_menu": {},
   "number_sections": true,
   "sideBar": true,
   "skip_h1_title": false,
   "title_cell": "Table of Contents",
   "title_sidebar": "Contents",
   "toc_cell": false,
   "toc_position": {},
   "toc_section_display": true,
   "toc_window_display": false
  }
 },
 "nbformat": 4,
 "nbformat_minor": 2
}
