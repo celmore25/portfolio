{
 "cells": [
  {
   "cell_type": "markdown",
   "metadata": {},
   "source": [
    "# Gradient Descent Implementation"
   ]
  },
  {
   "cell_type": "code",
   "execution_count": 19,
   "metadata": {
    "ExecuteTime": {
     "end_time": "2020-07-02T02:21:15.486211Z",
     "start_time": "2020-07-02T02:21:15.157792Z"
    }
   },
   "outputs": [],
   "source": [
    "import numpy as np\n",
    "from matplotlib import pyplot as plt"
   ]
  },
  {
   "cell_type": "markdown",
   "metadata": {},
   "source": [
    "# Math Formulation"
   ]
  },
  {
   "cell_type": "markdown",
   "metadata": {},
   "source": [
    "For a learning problem, let's take the matrix $X$ to be the feature space with rows $x_i$. There is the associated label vector $y$ with elements $y_i$. \n",
    "\n",
    "The objective of the problem is to find the hypothesis space that maps $X$ to $y$. This is hypothesis space is denotated at $H(x_i) = y_i$ or $H(X) = y$.\n",
    "\n",
    "In the case of the linear learning problem, the hypothesis space is given below with the equivalent expressions.\n",
    "\n",
    "$H(X) = X\\theta = y$\n",
    "\n",
    "$H(x_i) = x_i\\theta = x_i^{(0)} \\theta^{(0)} + x_i^{(1)} \\theta^{(1)} + \\cdots + x_i^{(j)} \\theta^{(j)} = y_i$\n",
    "\n",
    "\n",
    "$\\theta$ is the linear parameters what must be learned in this problem shown by the vector below.\n",
    "\n",
    "$\\theta = [\\theta^{(0)}, \\theta^{(1)}, \\cdots, \\theta^{(n)}]^T$\n",
    "\n",
    "The cost function for quantifying the error of the learning problem is defined as $J$ below. $M$ is the number of rows in $X$.\n",
    "\n",
    "$J(\\theta) = \\frac{1}{2m} \\sum_{i=1}^{n}(x_i\\theta - y_i)^2$\n",
    "\n",
    "The gradient descent algorithm is the defined by using the gradient of the loss function given below as a gradient definition, a summation, and as a vector.\n",
    "\n",
    "$\\nabla J(\\theta) = \\left[\\frac{\\partial J}{\\partial \\theta^{(0)}}, \n",
    "\\frac{\\partial J}{\\partial \\theta^{(1)}}, \\cdots,\n",
    "\\frac{\\partial J}{\\partial \\theta^{(n)}}\\right] ^ T$\n",
    "\n",
    "$\\nabla J(\\theta) = \\frac{1}{m} (X\\theta - y) X$\n",
    "\n",
    "Training the algorithm is given with the following sequence.\n",
    "\n",
    "1. Pick a random start for the $\\theta$ vector\n",
    "1. Take a step in the direction of negative loss $\\theta_k = \\theta_{k-1} - \\alpha \\nabla J(\\theta)$\n",
    "1. Repeat step 2 until $||\\nabla J(\\theta)||_2 \\leq \\epsilon$"
   ]
  },
  {
   "cell_type": "markdown",
   "metadata": {},
   "source": [
    "# Practice Coding"
   ]
  },
  {
   "cell_type": "markdown",
   "metadata": {},
   "source": [
    "## Creating Fake Data"
   ]
  },
  {
   "cell_type": "code",
   "execution_count": 289,
   "metadata": {
    "ExecuteTime": {
     "end_time": "2020-07-02T03:38:39.705578Z",
     "start_time": "2020-07-02T03:38:39.545910Z"
    }
   },
   "outputs": [
    {
     "data": {
      "image/png": "[encoded data removed]",
      "text/plain": [
       "<Figure size 432x288 with 1 Axes>"
      ]
     },
     "metadata": {
      "needs_background": "light"
     },
     "output_type": "display_data"
    }
   ],
   "source": [
    "M = 100\n",
    "N = 5\n",
    "y = np.linspace(0,1,M)\n",
    "X = np.zeros((M,N))\n",
    "for i in range(M):\n",
    "    rand_vec = np.random.randn(N) / 4\n",
    "    X[i] = y[i] + rand_vec\n",
    "plt.scatter(X[:,0],y)\n",
    "plt.ylabel('$y$')\n",
    "plt.xlabel('$x_0$')\n",
    "plt.show()"
   ]
  },
  {
   "cell_type": "markdown",
   "metadata": {
    "ExecuteTime": {
     "end_time": "2020-07-02T02:22:24.435351Z",
     "start_time": "2020-07-02T02:22:24.287974Z"
    }
   },
   "source": [
    "## Guessing Random $\\theta$"
   ]
  },
  {
   "cell_type": "code",
   "execution_count": 290,
   "metadata": {
    "ExecuteTime": {
     "end_time": "2020-07-02T03:38:40.630476Z",
     "start_time": "2020-07-02T03:38:40.627002Z"
    }
   },
   "outputs": [],
   "source": [
    "theta = np.random.randn(N)"
   ]
  },
  {
   "cell_type": "markdown",
   "metadata": {
    "ExecuteTime": {
     "end_time": "2020-07-02T02:28:35.202769Z",
     "start_time": "2020-07-02T02:28:35.051108Z"
    }
   },
   "source": [
    "## Error Function"
   ]
  },
  {
   "cell_type": "code",
   "execution_count": 291,
   "metadata": {
    "ExecuteTime": {
     "end_time": "2020-07-02T03:38:41.749391Z",
     "start_time": "2020-07-02T03:38:41.745189Z"
    }
   },
   "outputs": [],
   "source": [
    "def error(X, y, theta):\n",
    "    return sum((X@theta - y)**2) / y.shape[0]"
   ]
  },
  {
   "cell_type": "code",
   "execution_count": 292,
   "metadata": {
    "ExecuteTime": {
     "end_time": "2020-07-02T03:38:42.208421Z",
     "start_time": "2020-07-02T03:38:42.202301Z"
    }
   },
   "outputs": [
    {
     "data": {
      "text/plain": [
       "0.44601280805547794"
      ]
     },
     "execution_count": 292,
     "metadata": {},
     "output_type": "execute_result"
    }
   ],
   "source": [
    "error(X, y, theta)"
   ]
  },
  {
   "cell_type": "markdown",
   "metadata": {
    "ExecuteTime": {
     "end_time": "2020-07-02T02:32:35.152955Z",
     "start_time": "2020-07-02T02:32:35.145711Z"
    }
   },
   "source": [
    "## Gradient Calculation"
   ]
  },
  {
   "cell_type": "code",
   "execution_count": 293,
   "metadata": {
    "ExecuteTime": {
     "end_time": "2020-07-02T03:38:43.389840Z",
     "start_time": "2020-07-02T03:38:43.386438Z"
    }
   },
   "outputs": [],
   "source": [
    "grad_J = 1/M * (X@theta - y) @ X"
   ]
  },
  {
   "cell_type": "code",
   "execution_count": 294,
   "metadata": {
    "ExecuteTime": {
     "end_time": "2020-07-02T03:38:43.950349Z",
     "start_time": "2020-07-02T03:38:43.945229Z"
    }
   },
   "outputs": [
    {
     "data": {
      "text/plain": [
       "array([-0.38216751, -0.37160008, -0.35075769, -0.40126636, -0.32792366])"
      ]
     },
     "execution_count": 294,
     "metadata": {},
     "output_type": "execute_result"
    }
   ],
   "source": [
    "grad_J"
   ]
  },
  {
   "cell_type": "code",
   "execution_count": 295,
   "metadata": {
    "ExecuteTime": {
     "end_time": "2020-07-02T03:38:44.607409Z",
     "start_time": "2020-07-02T03:38:44.601185Z"
    }
   },
   "outputs": [
    {
     "data": {
      "text/plain": [
       "array([ 0.05259363, -0.15411597,  0.1103234 , -0.62612245,  0.529723  ])"
      ]
     },
     "execution_count": 295,
     "metadata": {},
     "output_type": "execute_result"
    }
   ],
   "source": [
    "theta"
   ]
  },
  {
   "cell_type": "code",
   "execution_count": 296,
   "metadata": {
    "ExecuteTime": {
     "end_time": "2020-07-02T03:38:47.286213Z",
     "start_time": "2020-07-02T03:38:47.280947Z"
    }
   },
   "outputs": [
    {
     "data": {
      "text/plain": [
       "0.8220208028107673"
      ]
     },
     "execution_count": 296,
     "metadata": {},
     "output_type": "execute_result"
    }
   ],
   "source": [
    "np.linalg.norm(grad_J)"
   ]
  },
  {
   "cell_type": "markdown",
   "metadata": {
    "ExecuteTime": {
     "end_time": "2020-07-02T02:55:16.406247Z",
     "start_time": "2020-07-02T02:55:16.402352Z"
    }
   },
   "source": [
    "## Taking A Step Gradient Step"
   ]
  },
  {
   "cell_type": "code",
   "execution_count": 297,
   "metadata": {
    "ExecuteTime": {
     "end_time": "2020-07-02T03:38:54.005592Z",
     "start_time": "2020-07-02T03:38:54.001665Z"
    }
   },
   "outputs": [],
   "source": [
    "alpha = 0.05\n",
    "theta_new = theta - alpha * grad_J"
   ]
  },
  {
   "cell_type": "code",
   "execution_count": 298,
   "metadata": {
    "ExecuteTime": {
     "end_time": "2020-07-02T03:38:54.574101Z",
     "start_time": "2020-07-02T03:38:54.568170Z"
    }
   },
   "outputs": [
    {
     "data": {
      "text/plain": [
       "array([ 0.07170201, -0.13553597,  0.12786128, -0.60605913,  0.54611919])"
      ]
     },
     "execution_count": 298,
     "metadata": {},
     "output_type": "execute_result"
    }
   ],
   "source": [
    "theta_new"
   ]
  },
  {
   "cell_type": "code",
   "execution_count": 299,
   "metadata": {
    "ExecuteTime": {
     "end_time": "2020-07-02T03:38:55.070578Z",
     "start_time": "2020-07-02T03:38:55.065235Z"
    }
   },
   "outputs": [
    {
     "data": {
      "text/plain": [
       "0.44601280805547794"
      ]
     },
     "execution_count": 299,
     "metadata": {},
     "output_type": "execute_result"
    }
   ],
   "source": [
    "error(X, y, theta)"
   ]
  },
  {
   "cell_type": "code",
   "execution_count": 300,
   "metadata": {
    "ExecuteTime": {
     "end_time": "2020-07-02T03:38:58.280032Z",
     "start_time": "2020-07-02T03:38:58.273816Z"
    }
   },
   "outputs": [
    {
     "data": {
      "text/plain": [
       "0.44601280805547794"
      ]
     },
     "execution_count": 300,
     "metadata": {},
     "output_type": "execute_result"
    }
   ],
   "source": [
    "error(X, y, theta)"
   ]
  },
  {
   "cell_type": "markdown",
   "metadata": {},
   "source": [
    "# Linear Implementation"
   ]
  },
  {
   "cell_type": "code",
   "execution_count": 348,
   "metadata": {
    "ExecuteTime": {
     "end_time": "2020-07-02T03:48:35.631824Z",
     "start_time": "2020-07-02T03:48:35.578379Z"
    },
    "scrolled": true
   },
   "outputs": [],
   "source": [
    "def gradient_decent(X, y, verbose = True, alpha = 0.05, esp = 1e-7):\n",
    "    '''\n",
    "    Takes in a feature vector (X) and a label vector (y)\n",
    "    and outputs the linear values of theta which are the linear\n",
    "    coefficients for regression\n",
    "    '''\n",
    "    \n",
    "    # define M and N\n",
    "    M = X.shape[0]\n",
    "    N = X.shape[1]\n",
    "    \n",
    "    # guess the first random theta\n",
    "    theta = np.random.randn(N)\n",
    "    \n",
    "    # define the error function\n",
    "    def calc_error(X, y, theta):\n",
    "        return sum((X@theta - y)**2) / y.shape[0]\n",
    "    error_old = calc_error(X, y, theta)\n",
    "    error_change = 1\n",
    "    \n",
    "    # find the gradient\n",
    "    grad_J = 1/M * (X@theta - y) @ X\n",
    "    \n",
    "    # find the norm of the gradient\n",
    "    grad_norm = np.linalg.norm(grad_J)\n",
    "    \n",
    "    # initialize steps\n",
    "    steps = 0\n",
    "    \n",
    "    # print out starting points\n",
    "    if verbose:\n",
    "        print('------- Gradient Descent Algorithm -------')\n",
    "        print('Shape of X:',X.shape)\n",
    "        print('Shape of y:',y.shape)\n",
    "        print(f'Initial Error: {calc_error(X, y, theta):.4}')\n",
    "        print()\n",
    "    \n",
    "    # initalize result vectors\n",
    "    error_vec = []\n",
    "    grad_vec = []\n",
    "    \n",
    "    # make a while loop for the alpha condition or the change in error\n",
    "    while grad_norm > esp and error_change > esp :\n",
    "        \n",
    "        # update theta\n",
    "        theta = theta - alpha * grad_J\n",
    "        \n",
    "        # calculate the new gradient\n",
    "        grad_J = 1/M * (X@theta - y) @ X\n",
    "        \n",
    "        # calculate the gradient's norm\n",
    "        grad_norm = np.linalg.norm(grad_J)\n",
    "        \n",
    "        # increase steps\n",
    "        steps += 1\n",
    "        \n",
    "        # append error value\n",
    "        error_new = calc_error(X, y, theta)\n",
    "        error_vec.append(error_new)\n",
    "        \n",
    "        # append the gradient norm\n",
    "        grad_vec.append(grad_norm)\n",
    "        \n",
    "        # calculate the change in error\n",
    "        error_change = abs(error_new - error_old)\n",
    "        \n",
    "        # move the old to the new error\n",
    "        error_old = error_new\n",
    "        \n",
    "        if verbose:\n",
    "            print(f'Step #{steps}')\n",
    "            print(f'Error: {error_old:.4}')\n",
    "            print()\n",
    "            \n",
    "    \n",
    "    # return results\n",
    "    class results:\n",
    "        def __init__(self):\n",
    "            self.theta = theta\n",
    "            self.final_error = error(X, y, theta)\n",
    "            self.steps = steps\n",
    "            self.error_vec = error_vec\n",
    "            self.grad_vec = grad_vec\n",
    "        \n",
    "    return results()\n",
    "results = gradient_decent(X, y, alpha = 0.05, verbose = False, esp = 1e-5)"
   ]
  },
  {
   "cell_type": "code",
   "execution_count": 349,
   "metadata": {
    "ExecuteTime": {
     "end_time": "2020-07-02T03:48:36.556927Z",
     "start_time": "2020-07-02T03:48:36.138932Z"
    }
   },
   "outputs": [
    {
     "data": {
      "image/png": "[encoded data removed]",
      "text/plain": [
       "<Figure size 432x288 with 1 Axes>"
      ]
     },
     "metadata": {
      "needs_background": "light"
     },
     "output_type": "display_data"
    },
    {
     "data": {
      "image/png": "[encoded data removed]",
      "text/plain": [
       "<Figure size 432x288 with 1 Axes>"
      ]
     },
     "metadata": {
      "needs_background": "light"
     },
     "output_type": "display_data"
    },
    {
     "data": {
      "image/png": "[encoded data removed]",
      "text/plain": [
       "<Figure size 432x288 with 1 Axes>"
      ]
     },
     "metadata": {
      "needs_background": "light"
     },
     "output_type": "display_data"
    }
   ],
   "source": [
    "plt.plot(results.error_vec)\n",
    "plt.title('Learning Curve')\n",
    "plt.ylabel('Error')\n",
    "plt.xlabel('Gradient Step')\n",
    "plt.show()\n",
    "plt.plot(results.grad_vec)\n",
    "plt.title('Learning Curve')\n",
    "plt.ylabel('Gradient 2-norm')\n",
    "plt.xlabel('Gradient Step')\n",
    "plt.show()\n",
    "y_hat = X@results.theta\n",
    "plt.scatter(y,y_hat)\n",
    "plt.title('Predictions')\n",
    "plt.ylabel('$\\hat{y}$')\n",
    "plt.xlabel('$y$')\n",
    "plt.show()"
   ]
  },
  {
   "cell_type": "code",
   "execution_count": null,
   "metadata": {},
   "outputs": [],
   "source": []
  },
  {
   "cell_type": "code",
   "execution_count": null,
   "metadata": {},
   "outputs": [],
   "source": []
  }
 ],
 "metadata": {
  "kernelspec": {
   "display_name": "Python 3",
   "language": "python",
   "name": "python3"
  },
  "language_info": {
   "codemirror_mode": {
    "name": "ipython",
    "version": 3
   },
   "file_extension": ".py",
   "mimetype": "text/x-python",
   "name": "python",
   "nbconvert_exporter": "python",
   "pygments_lexer": "ipython3",
   "version": "3.6.8"
  },
  "toc": {
   "base_numbering": 1,
   "nav_menu": {},
   "number_sections": true,
   "sideBar": true,
   "skip_h1_title": false,
   "title_cell": "Table of Contents",
   "title_sidebar": "Contents",
   "toc_cell": false,
   "toc_position": {},
   "toc_section_display": true,
   "toc_window_display": false
  }
 },
 "nbformat": 4,
 "nbformat_minor": 2
}
