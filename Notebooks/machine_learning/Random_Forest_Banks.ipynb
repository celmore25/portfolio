{
 "cells": [
  {
   "cell_type": "markdown",
   "metadata": {},
   "source": [
    "# Random Forest Classification - Customer Retention\n",
    "\n",
    "The problem tackled in this notebook is the classic marketing application - customer retention (commonly referred to as churn). It is a basic binary classification problem which will use a combination of categorical and numerical features."
   ]
  },
  {
   "cell_type": "markdown",
   "metadata": {},
   "source": [
    "## Environment\n",
    "\n",
    "Sklearn will create the models and scikitplot is an awesome library for plotting various important classification plots."
   ]
  },
  {
   "cell_type": "code",
   "execution_count": 1,
   "metadata": {
    "ExecuteTime": {
     "end_time": "2020-08-27T03:56:56.591857Z",
     "start_time": "2020-08-27T03:56:54.872476Z"
    }
   },
   "outputs": [],
   "source": [
    "import pandas as pd\n",
    "pd.options.mode.chained_assignment = None\n",
    "import numpy as np\n",
    "import matplotlib.pyplot as plt\n",
    "\n",
    "from sklearn.model_selection import train_test_split\n",
    "from sklearn.ensemble import RandomForestClassifier\n",
    "from sklearn import metrics\n",
    "from sklearn import preprocessing\n",
    "from sklearn.preprocessing import StandardScaler\n",
    "from sklearn.model_selection import RandomizedSearchCV\n",
    "from sklearn.model_selection import GridSearchCV\n",
    "\n",
    "from scikitplot.metrics import plot_roc, plot_confusion_matrix\n",
    "\n",
    "from math import sqrt\n",
    "import os"
   ]
  },
  {
   "cell_type": "markdown",
   "metadata": {},
   "source": [
    "## Result Functions"
   ]
  },
  {
   "cell_type": "code",
   "execution_count": 2,
   "metadata": {
    "ExecuteTime": {
     "end_time": "2020-08-27T03:56:56.624474Z",
     "start_time": "2020-08-27T03:56:56.597045Z"
    }
   },
   "outputs": [],
   "source": [
    "def rf_results(model, X_test, y_pred_test, y_test, y_pred_train, y_train, verbose = True, plot = True):\n",
    "    \n",
    "    results = {\n",
    "               'Test Accuracy': metrics.accuracy_score(y_test, y_pred_test),\n",
    "               'OOB Score': model.oob_score_,\n",
    "               'Train Accuracy': metrics.accuracy_score(y_train, y_pred_train),\n",
    "              }\n",
    "    \n",
    "    if verbose:\n",
    "        print('Random Forest Model Results:')\n",
    "        print(results)\n",
    "    \n",
    "    if plot:\n",
    "        y_true = y_test\n",
    "        y_probas = model.predict_proba(X_test)\n",
    "        plot_roc(y_true, y_probas, title='ROC Curves')\n",
    "        plt.show()\n",
    "        plot_confusion_matrix(y_pred_test, y_test, normalize=True)\n",
    "        plt.show()\n",
    "    \n",
    "    return results\n",
    "\n",
    "def plot_importance(model):\n",
    "    importances = model.feature_importances_\n",
    "    indices = np.argsort(importances)\n",
    "    features = train_features.columns\n",
    "    plt.title('Feature Importances')\n",
    "    plt.barh(range(len(indices)), importances[indices], color='b', align='center')\n",
    "    plt.yticks(range(len(indices)), [features[i] for i in indices])\n",
    "    plt.xlabel('Relative Importance')\n",
    "    plt.show()"
   ]
  },
  {
   "cell_type": "markdown",
   "metadata": {},
   "source": [
    "## Data Loading"
   ]
  },
  {
   "cell_type": "code",
   "execution_count": 3,
   "metadata": {
    "ExecuteTime": {
     "end_time": "2020-08-27T03:56:56.713953Z",
     "start_time": "2020-08-27T03:56:56.628500Z"
    },
    "scrolled": false
   },
   "outputs": [
    {
     "data": {
      "text/html": [
       "<div>\n",
       "<style scoped>\n",
       "    .dataframe tbody tr th:only-of-type {\n",
       "        vertical-align: middle;\n",
       "    }\n",
       "\n",
       "    .dataframe tbody tr th {\n",
       "        vertical-align: top;\n",
       "    }\n",
       "\n",
       "    .dataframe thead th {\n",
       "        text-align: right;\n",
       "    }\n",
       "</style>\n",
       "<table border=\"1\" class=\"dataframe\">\n",
       "  <thead>\n",
       "    <tr style=\"text-align: right;\">\n",
       "      <th></th>\n",
       "      <th>RowNumber</th>\n",
       "      <th>CustomerId</th>\n",
       "      <th>Surname</th>\n",
       "      <th>CreditScore</th>\n",
       "      <th>Geography</th>\n",
       "      <th>Gender</th>\n",
       "      <th>Age</th>\n",
       "      <th>Tenure</th>\n",
       "      <th>Balance</th>\n",
       "      <th>NumOfProducts</th>\n",
       "      <th>HasCrCard</th>\n",
       "      <th>IsActiveMember</th>\n",
       "      <th>EstimatedSalary</th>\n",
       "      <th>Exited</th>\n",
       "    </tr>\n",
       "  </thead>\n",
       "  <tbody>\n",
       "    <tr>\n",
       "      <th>0</th>\n",
       "      <td>1</td>\n",
       "      <td>15634602</td>\n",
       "      <td>Hargrave</td>\n",
       "      <td>619</td>\n",
       "      <td>France</td>\n",
       "      <td>Female</td>\n",
       "      <td>42</td>\n",
       "      <td>2</td>\n",
       "      <td>0.00</td>\n",
       "      <td>1</td>\n",
       "      <td>1</td>\n",
       "      <td>1</td>\n",
       "      <td>101348.88</td>\n",
       "      <td>1</td>\n",
       "    </tr>\n",
       "    <tr>\n",
       "      <th>1</th>\n",
       "      <td>2</td>\n",
       "      <td>15647311</td>\n",
       "      <td>Hill</td>\n",
       "      <td>608</td>\n",
       "      <td>Spain</td>\n",
       "      <td>Female</td>\n",
       "      <td>41</td>\n",
       "      <td>1</td>\n",
       "      <td>83807.86</td>\n",
       "      <td>1</td>\n",
       "      <td>0</td>\n",
       "      <td>1</td>\n",
       "      <td>112542.58</td>\n",
       "      <td>0</td>\n",
       "    </tr>\n",
       "    <tr>\n",
       "      <th>2</th>\n",
       "      <td>3</td>\n",
       "      <td>15619304</td>\n",
       "      <td>Onio</td>\n",
       "      <td>502</td>\n",
       "      <td>France</td>\n",
       "      <td>Female</td>\n",
       "      <td>42</td>\n",
       "      <td>8</td>\n",
       "      <td>159660.80</td>\n",
       "      <td>3</td>\n",
       "      <td>1</td>\n",
       "      <td>0</td>\n",
       "      <td>113931.57</td>\n",
       "      <td>1</td>\n",
       "    </tr>\n",
       "    <tr>\n",
       "      <th>3</th>\n",
       "      <td>4</td>\n",
       "      <td>15701354</td>\n",
       "      <td>Boni</td>\n",
       "      <td>699</td>\n",
       "      <td>France</td>\n",
       "      <td>Female</td>\n",
       "      <td>39</td>\n",
       "      <td>1</td>\n",
       "      <td>0.00</td>\n",
       "      <td>2</td>\n",
       "      <td>0</td>\n",
       "      <td>0</td>\n",
       "      <td>93826.63</td>\n",
       "      <td>0</td>\n",
       "    </tr>\n",
       "    <tr>\n",
       "      <th>4</th>\n",
       "      <td>5</td>\n",
       "      <td>15737888</td>\n",
       "      <td>Mitchell</td>\n",
       "      <td>850</td>\n",
       "      <td>Spain</td>\n",
       "      <td>Female</td>\n",
       "      <td>43</td>\n",
       "      <td>2</td>\n",
       "      <td>125510.82</td>\n",
       "      <td>1</td>\n",
       "      <td>1</td>\n",
       "      <td>1</td>\n",
       "      <td>79084.10</td>\n",
       "      <td>0</td>\n",
       "    </tr>\n",
       "  </tbody>\n",
       "</table>\n",
       "</div>"
      ],
      "text/plain": [
       "   RowNumber  CustomerId   Surname  CreditScore Geography  Gender  Age  \\\n",
       "0          1    15634602  Hargrave          619    France  Female   42   \n",
       "1          2    15647311      Hill          608     Spain  Female   41   \n",
       "2          3    15619304      Onio          502    France  Female   42   \n",
       "3          4    15701354      Boni          699    France  Female   39   \n",
       "4          5    15737888  Mitchell          850     Spain  Female   43   \n",
       "\n",
       "   Tenure    Balance  NumOfProducts  HasCrCard  IsActiveMember  \\\n",
       "0       2       0.00              1          1               1   \n",
       "1       1   83807.86              1          0               1   \n",
       "2       8  159660.80              3          1               0   \n",
       "3       1       0.00              2          0               0   \n",
       "4       2  125510.82              1          1               1   \n",
       "\n",
       "   EstimatedSalary  Exited  \n",
       "0        101348.88       1  \n",
       "1        112542.58       0  \n",
       "2        113931.57       1  \n",
       "3         93826.63       0  \n",
       "4         79084.10       0  "
      ]
     },
     "execution_count": 3,
     "metadata": {},
     "output_type": "execute_result"
    }
   ],
   "source": [
    "df = pd.read_csv('/Users/ClayElmore/Desktop/gitClay/My_Learning_General_ML_/datasets/datasets_729058_1265963_Churn_Modelling.csv')\n",
    "df.head()"
   ]
  },
  {
   "cell_type": "code",
   "execution_count": 4,
   "metadata": {
    "ExecuteTime": {
     "end_time": "2020-08-27T03:56:56.746210Z",
     "start_time": "2020-08-27T03:56:56.723734Z"
    }
   },
   "outputs": [
    {
     "data": {
      "text/plain": [
       "Index(['RowNumber', 'CustomerId', 'Surname', 'CreditScore', 'Geography',\n",
       "       'Gender', 'Age', 'Tenure', 'Balance', 'NumOfProducts', 'HasCrCard',\n",
       "       'IsActiveMember', 'EstimatedSalary', 'Exited'],\n",
       "      dtype='object')"
      ]
     },
     "execution_count": 4,
     "metadata": {},
     "output_type": "execute_result"
    }
   ],
   "source": [
    "df.columns"
   ]
  },
  {
   "cell_type": "markdown",
   "metadata": {},
   "source": [
    "# Preprocessing"
   ]
  },
  {
   "cell_type": "code",
   "execution_count": 5,
   "metadata": {
    "ExecuteTime": {
     "end_time": "2020-08-27T03:56:56.780946Z",
     "start_time": "2020-08-27T03:56:56.762191Z"
    }
   },
   "outputs": [],
   "source": [
    "drop_cols = ['RowNumber','CustomerId','Surname']\n",
    "cont_cols = ['CreditScore', 'Age', 'Tenure', 'Balance', 'NumOfProducts', 'EstimatedSalary']\n",
    "cat_cols = ['HasCrCard','IsActiveMember', 'Geography', 'Gender']\n",
    "y_var = 'Exited'\n",
    "features = df[cont_cols + cat_cols]\n",
    "labels = df[y_var]"
   ]
  },
  {
   "cell_type": "code",
   "execution_count": 6,
   "metadata": {
    "ExecuteTime": {
     "end_time": "2020-08-27T03:56:56.823773Z",
     "start_time": "2020-08-27T03:56:56.789880Z"
    }
   },
   "outputs": [
    {
     "data": {
      "text/html": [
       "<div>\n",
       "<style scoped>\n",
       "    .dataframe tbody tr th:only-of-type {\n",
       "        vertical-align: middle;\n",
       "    }\n",
       "\n",
       "    .dataframe tbody tr th {\n",
       "        vertical-align: top;\n",
       "    }\n",
       "\n",
       "    .dataframe thead th {\n",
       "        text-align: right;\n",
       "    }\n",
       "</style>\n",
       "<table border=\"1\" class=\"dataframe\">\n",
       "  <thead>\n",
       "    <tr style=\"text-align: right;\">\n",
       "      <th></th>\n",
       "      <th>CreditScore</th>\n",
       "      <th>Age</th>\n",
       "      <th>Tenure</th>\n",
       "      <th>Balance</th>\n",
       "      <th>NumOfProducts</th>\n",
       "      <th>EstimatedSalary</th>\n",
       "      <th>HasCrCard</th>\n",
       "      <th>IsActiveMember</th>\n",
       "      <th>Geography</th>\n",
       "      <th>Gender</th>\n",
       "    </tr>\n",
       "  </thead>\n",
       "  <tbody>\n",
       "    <tr>\n",
       "      <th>0</th>\n",
       "      <td>619</td>\n",
       "      <td>42</td>\n",
       "      <td>2</td>\n",
       "      <td>0.00</td>\n",
       "      <td>1</td>\n",
       "      <td>101348.88</td>\n",
       "      <td>1</td>\n",
       "      <td>1</td>\n",
       "      <td>France</td>\n",
       "      <td>Female</td>\n",
       "    </tr>\n",
       "    <tr>\n",
       "      <th>1</th>\n",
       "      <td>608</td>\n",
       "      <td>41</td>\n",
       "      <td>1</td>\n",
       "      <td>83807.86</td>\n",
       "      <td>1</td>\n",
       "      <td>112542.58</td>\n",
       "      <td>0</td>\n",
       "      <td>1</td>\n",
       "      <td>Spain</td>\n",
       "      <td>Female</td>\n",
       "    </tr>\n",
       "    <tr>\n",
       "      <th>2</th>\n",
       "      <td>502</td>\n",
       "      <td>42</td>\n",
       "      <td>8</td>\n",
       "      <td>159660.80</td>\n",
       "      <td>3</td>\n",
       "      <td>113931.57</td>\n",
       "      <td>1</td>\n",
       "      <td>0</td>\n",
       "      <td>France</td>\n",
       "      <td>Female</td>\n",
       "    </tr>\n",
       "    <tr>\n",
       "      <th>3</th>\n",
       "      <td>699</td>\n",
       "      <td>39</td>\n",
       "      <td>1</td>\n",
       "      <td>0.00</td>\n",
       "      <td>2</td>\n",
       "      <td>93826.63</td>\n",
       "      <td>0</td>\n",
       "      <td>0</td>\n",
       "      <td>France</td>\n",
       "      <td>Female</td>\n",
       "    </tr>\n",
       "    <tr>\n",
       "      <th>4</th>\n",
       "      <td>850</td>\n",
       "      <td>43</td>\n",
       "      <td>2</td>\n",
       "      <td>125510.82</td>\n",
       "      <td>1</td>\n",
       "      <td>79084.10</td>\n",
       "      <td>1</td>\n",
       "      <td>1</td>\n",
       "      <td>Spain</td>\n",
       "      <td>Female</td>\n",
       "    </tr>\n",
       "  </tbody>\n",
       "</table>\n",
       "</div>"
      ],
      "text/plain": [
       "   CreditScore  Age  Tenure    Balance  NumOfProducts  EstimatedSalary  \\\n",
       "0          619   42       2       0.00              1        101348.88   \n",
       "1          608   41       1   83807.86              1        112542.58   \n",
       "2          502   42       8  159660.80              3        113931.57   \n",
       "3          699   39       1       0.00              2         93826.63   \n",
       "4          850   43       2  125510.82              1         79084.10   \n",
       "\n",
       "   HasCrCard  IsActiveMember Geography  Gender  \n",
       "0          1               1    France  Female  \n",
       "1          0               1     Spain  Female  \n",
       "2          1               0    France  Female  \n",
       "3          0               0    France  Female  \n",
       "4          1               1     Spain  Female  "
      ]
     },
     "execution_count": 6,
     "metadata": {},
     "output_type": "execute_result"
    }
   ],
   "source": [
    "features.head()"
   ]
  },
  {
   "cell_type": "code",
   "execution_count": 7,
   "metadata": {
    "ExecuteTime": {
     "end_time": "2020-08-27T03:56:56.858784Z",
     "start_time": "2020-08-27T03:56:56.842652Z"
    }
   },
   "outputs": [],
   "source": [
    "# Split data\n",
    "train_features, test_features, train_labels, test_labels = train_test_split(features, labels, \n",
    "                                                                            test_size = 0.25, random_state = 42)"
   ]
  },
  {
   "cell_type": "code",
   "execution_count": 8,
   "metadata": {
    "ExecuteTime": {
     "end_time": "2020-08-27T03:56:56.888987Z",
     "start_time": "2020-08-27T03:56:56.865694Z"
    }
   },
   "outputs": [
    {
     "data": {
      "text/plain": [
       "RowNumber          False\n",
       "CustomerId         False\n",
       "Surname            False\n",
       "CreditScore        False\n",
       "Geography          False\n",
       "Gender             False\n",
       "Age                False\n",
       "Tenure             False\n",
       "Balance            False\n",
       "NumOfProducts      False\n",
       "HasCrCard          False\n",
       "IsActiveMember     False\n",
       "EstimatedSalary    False\n",
       "Exited             False\n",
       "dtype: bool"
      ]
     },
     "execution_count": 8,
     "metadata": {},
     "output_type": "execute_result"
    }
   ],
   "source": [
    "# check for missing values\n",
    "df.isna().any()"
   ]
  },
  {
   "cell_type": "code",
   "execution_count": 9,
   "metadata": {
    "ExecuteTime": {
     "end_time": "2020-08-27T03:56:56.912061Z",
     "start_time": "2020-08-27T03:56:56.891444Z"
    }
   },
   "outputs": [],
   "source": [
    "# encode categorical variables\n",
    "for col in cat_cols:\n",
    "    le = preprocessing.LabelEncoder()\n",
    "    le.fit(train_features[col])\n",
    "    train_features[col] = le.transform(train_features[col])\n",
    "    test_features[col] = le.transform(test_features[col])"
   ]
  },
  {
   "cell_type": "code",
   "execution_count": 10,
   "metadata": {
    "ExecuteTime": {
     "end_time": "2020-08-27T03:56:56.945104Z",
     "start_time": "2020-08-27T03:56:56.914268Z"
    }
   },
   "outputs": [],
   "source": [
    "# scale continuous variables\n",
    "for col in cont_cols:\n",
    "    le = preprocessing.StandardScaler()\n",
    "    le.fit(train_features[col].astype(float).to_numpy().reshape(-1,1))\n",
    "    train_features[col] = le.transform(train_features[col].astype(float).to_numpy().reshape(-1,1))\n",
    "    test_features[col] = le.transform(test_features[col].astype(float).to_numpy().reshape(-1,1))"
   ]
  },
  {
   "cell_type": "code",
   "execution_count": 11,
   "metadata": {
    "ExecuteTime": {
     "end_time": "2020-08-27T03:56:56.982165Z",
     "start_time": "2020-08-27T03:56:56.957394Z"
    }
   },
   "outputs": [
    {
     "data": {
      "text/html": [
       "<div>\n",
       "<style scoped>\n",
       "    .dataframe tbody tr th:only-of-type {\n",
       "        vertical-align: middle;\n",
       "    }\n",
       "\n",
       "    .dataframe tbody tr th {\n",
       "        vertical-align: top;\n",
       "    }\n",
       "\n",
       "    .dataframe thead th {\n",
       "        text-align: right;\n",
       "    }\n",
       "</style>\n",
       "<table border=\"1\" class=\"dataframe\">\n",
       "  <thead>\n",
       "    <tr style=\"text-align: right;\">\n",
       "      <th></th>\n",
       "      <th>CreditScore</th>\n",
       "      <th>Age</th>\n",
       "      <th>Tenure</th>\n",
       "      <th>Balance</th>\n",
       "      <th>NumOfProducts</th>\n",
       "      <th>EstimatedSalary</th>\n",
       "      <th>HasCrCard</th>\n",
       "      <th>IsActiveMember</th>\n",
       "      <th>Geography</th>\n",
       "      <th>Gender</th>\n",
       "    </tr>\n",
       "  </thead>\n",
       "  <tbody>\n",
       "    <tr>\n",
       "      <th>4901</th>\n",
       "      <td>0.218351</td>\n",
       "      <td>1.916619</td>\n",
       "      <td>-1.731689</td>\n",
       "      <td>1.629928</td>\n",
       "      <td>0.813111</td>\n",
       "      <td>-1.382844</td>\n",
       "      <td>0</td>\n",
       "      <td>1</td>\n",
       "      <td>0</td>\n",
       "      <td>1</td>\n",
       "    </tr>\n",
       "    <tr>\n",
       "      <th>4375</th>\n",
       "      <td>2.057280</td>\n",
       "      <td>0.202109</td>\n",
       "      <td>1.041750</td>\n",
       "      <td>-0.246244</td>\n",
       "      <td>-0.911043</td>\n",
       "      <td>-1.195890</td>\n",
       "      <td>1</td>\n",
       "      <td>0</td>\n",
       "      <td>1</td>\n",
       "      <td>1</td>\n",
       "    </tr>\n",
       "    <tr>\n",
       "      <th>6698</th>\n",
       "      <td>0.758602</td>\n",
       "      <td>-0.750397</td>\n",
       "      <td>0.348390</td>\n",
       "      <td>-1.221027</td>\n",
       "      <td>-0.911043</td>\n",
       "      <td>-0.683422</td>\n",
       "      <td>0</td>\n",
       "      <td>0</td>\n",
       "      <td>0</td>\n",
       "      <td>0</td>\n",
       "    </tr>\n",
       "    <tr>\n",
       "      <th>9805</th>\n",
       "      <td>-0.082942</td>\n",
       "      <td>-0.559895</td>\n",
       "      <td>0.695070</td>\n",
       "      <td>1.574101</td>\n",
       "      <td>-0.911043</td>\n",
       "      <td>-0.985396</td>\n",
       "      <td>0</td>\n",
       "      <td>1</td>\n",
       "      <td>0</td>\n",
       "      <td>1</td>\n",
       "    </tr>\n",
       "    <tr>\n",
       "      <th>1101</th>\n",
       "      <td>0.530034</td>\n",
       "      <td>-0.940898</td>\n",
       "      <td>1.388429</td>\n",
       "      <td>-1.221027</td>\n",
       "      <td>0.813111</td>\n",
       "      <td>-0.868375</td>\n",
       "      <td>1</td>\n",
       "      <td>0</td>\n",
       "      <td>2</td>\n",
       "      <td>1</td>\n",
       "    </tr>\n",
       "    <tr>\n",
       "      <th>9537</th>\n",
       "      <td>1.361189</td>\n",
       "      <td>0.106858</td>\n",
       "      <td>0.348390</td>\n",
       "      <td>-1.221027</td>\n",
       "      <td>0.813111</td>\n",
       "      <td>0.157636</td>\n",
       "      <td>1</td>\n",
       "      <td>0</td>\n",
       "      <td>0</td>\n",
       "      <td>1</td>\n",
       "    </tr>\n",
       "    <tr>\n",
       "      <th>7655</th>\n",
       "      <td>0.997558</td>\n",
       "      <td>-0.083643</td>\n",
       "      <td>-0.344970</td>\n",
       "      <td>0.623826</td>\n",
       "      <td>-0.911043</td>\n",
       "      <td>-0.516130</td>\n",
       "      <td>0</td>\n",
       "      <td>1</td>\n",
       "      <td>0</td>\n",
       "      <td>1</td>\n",
       "    </tr>\n",
       "    <tr>\n",
       "      <th>5235</th>\n",
       "      <td>-0.072553</td>\n",
       "      <td>2.773874</td>\n",
       "      <td>1.388429</td>\n",
       "      <td>-1.221027</td>\n",
       "      <td>4.261421</td>\n",
       "      <td>1.314771</td>\n",
       "      <td>1</td>\n",
       "      <td>1</td>\n",
       "      <td>0</td>\n",
       "      <td>0</td>\n",
       "    </tr>\n",
       "    <tr>\n",
       "      <th>5165</th>\n",
       "      <td>2.057280</td>\n",
       "      <td>-0.559895</td>\n",
       "      <td>0.695070</td>\n",
       "      <td>1.035889</td>\n",
       "      <td>-0.911043</td>\n",
       "      <td>-1.687775</td>\n",
       "      <td>0</td>\n",
       "      <td>0</td>\n",
       "      <td>0</td>\n",
       "      <td>1</td>\n",
       "    </tr>\n",
       "    <tr>\n",
       "      <th>118</th>\n",
       "      <td>-1.329674</td>\n",
       "      <td>-0.750397</td>\n",
       "      <td>1.041750</td>\n",
       "      <td>0.505298</td>\n",
       "      <td>-0.911043</td>\n",
       "      <td>1.720768</td>\n",
       "      <td>1</td>\n",
       "      <td>0</td>\n",
       "      <td>1</td>\n",
       "      <td>0</td>\n",
       "    </tr>\n",
       "  </tbody>\n",
       "</table>\n",
       "</div>"
      ],
      "text/plain": [
       "      CreditScore       Age    Tenure   Balance  NumOfProducts  \\\n",
       "4901     0.218351  1.916619 -1.731689  1.629928       0.813111   \n",
       "4375     2.057280  0.202109  1.041750 -0.246244      -0.911043   \n",
       "6698     0.758602 -0.750397  0.348390 -1.221027      -0.911043   \n",
       "9805    -0.082942 -0.559895  0.695070  1.574101      -0.911043   \n",
       "1101     0.530034 -0.940898  1.388429 -1.221027       0.813111   \n",
       "9537     1.361189  0.106858  0.348390 -1.221027       0.813111   \n",
       "7655     0.997558 -0.083643 -0.344970  0.623826      -0.911043   \n",
       "5235    -0.072553  2.773874  1.388429 -1.221027       4.261421   \n",
       "5165     2.057280 -0.559895  0.695070  1.035889      -0.911043   \n",
       "118     -1.329674 -0.750397  1.041750  0.505298      -0.911043   \n",
       "\n",
       "      EstimatedSalary  HasCrCard  IsActiveMember  Geography  Gender  \n",
       "4901        -1.382844          0               1          0       1  \n",
       "4375        -1.195890          1               0          1       1  \n",
       "6698        -0.683422          0               0          0       0  \n",
       "9805        -0.985396          0               1          0       1  \n",
       "1101        -0.868375          1               0          2       1  \n",
       "9537         0.157636          1               0          0       1  \n",
       "7655        -0.516130          0               1          0       1  \n",
       "5235         1.314771          1               1          0       0  \n",
       "5165        -1.687775          0               0          0       1  \n",
       "118          1.720768          1               0          1       0  "
      ]
     },
     "execution_count": 11,
     "metadata": {},
     "output_type": "execute_result"
    }
   ],
   "source": [
    "train_features.head(10)"
   ]
  },
  {
   "cell_type": "markdown",
   "metadata": {},
   "source": [
    "# Random Forest Modeling"
   ]
  },
  {
   "cell_type": "markdown",
   "metadata": {},
   "source": [
    "## Base Case\n",
    "The base case is EXTREMELY overfit, meaning we need to hypertune to generalize the model."
   ]
  },
  {
   "cell_type": "code",
   "execution_count": 15,
   "metadata": {
    "ExecuteTime": {
     "end_time": "2020-08-27T04:00:16.642020Z",
     "start_time": "2020-08-27T04:00:15.126574Z"
    }
   },
   "outputs": [
    {
     "name": "stdout",
     "output_type": "stream",
     "text": [
      "Random Forest Model Results:\n",
      "{'Test Accuracy': 0.8664, 'OOB Score': 0.8556, 'Train Accuracy': 0.9998666666666667}\n"
     ]
    },
    {
     "data": {
      "image/png": "[encoded data removed]",
      "text/plain": [
       "<Figure size 432x288 with 1 Axes>"
      ]
     },
     "metadata": {
      "needs_background": "light"
     },
     "output_type": "display_data"
    },
    {
     "data": {
      "image/png": "[encoded data removed]",
      "text/plain": [
       "<Figure size 432x288 with 2 Axes>"
      ]
     },
     "metadata": {
      "needs_background": "light"
     },
     "output_type": "display_data"
    },
    {
     "data": {
      "image/png": "[encoded data removed]",
      "text/plain": [
       "<Figure size 432x288 with 1 Axes>"
      ]
     },
     "metadata": {
      "needs_background": "light"
     },
     "output_type": "display_data"
    }
   ],
   "source": [
    "rf = RandomForestClassifier(n_estimators = 100, random_state = 42, oob_score = True) \n",
    "rf.fit(train_features, train_labels)\n",
    "pred_train_labels = rf.predict(train_features)\n",
    "pred_test_labels = rf.predict(test_features)\n",
    "results = rf_results(model = rf, \n",
    "                     X_test = test_features,\n",
    "                     y_pred_test = pred_test_labels, \n",
    "                     y_test = test_labels, \n",
    "                     y_pred_train = pred_train_labels, \n",
    "                     y_train = train_labels,\n",
    "                     verbose = True)\n",
    "plot_importance(rf)"
   ]
  },
  {
   "cell_type": "markdown",
   "metadata": {},
   "source": [
    "## Coarse Random Hyperparameter Search"
   ]
  },
  {
   "cell_type": "code",
   "execution_count": 16,
   "metadata": {
    "ExecuteTime": {
     "end_time": "2020-08-27T04:02:20.161601Z",
     "start_time": "2020-08-27T04:00:22.813937Z"
    },
    "scrolled": true
   },
   "outputs": [
    {
     "name": "stdout",
     "output_type": "stream",
     "text": [
      "Fitting 3 folds for each of 100 candidates, totalling 300 fits\n"
     ]
    },
    {
     "name": "stderr",
     "output_type": "stream",
     "text": [
      "/Users/ClayElmore/anaconda3/lib/python3.6/site-packages/sklearn/model_selection/_split.py:2053: FutureWarning: You should specify a value for 'cv' instead of relying on the default value. The default value will change from 3 to 5 in version 0.22.\n",
      "  warnings.warn(CV_WARNING, FutureWarning)\n",
      "[Parallel(n_jobs=-1)]: Using backend LokyBackend with 4 concurrent workers.\n",
      "[Parallel(n_jobs=-1)]: Done   5 tasks      | elapsed:    4.7s\n",
      "[Parallel(n_jobs=-1)]: Done  10 tasks      | elapsed:    8.3s\n",
      "[Parallel(n_jobs=-1)]: Done  17 tasks      | elapsed:    9.5s\n",
      "[Parallel(n_jobs=-1)]: Done  24 tasks      | elapsed:   13.1s\n",
      "[Parallel(n_jobs=-1)]: Done  33 tasks      | elapsed:   17.8s\n",
      "[Parallel(n_jobs=-1)]: Done  42 tasks      | elapsed:   23.5s\n",
      "[Parallel(n_jobs=-1)]: Done  53 tasks      | elapsed:   27.5s\n",
      "[Parallel(n_jobs=-1)]: Done  64 tasks      | elapsed:   32.5s\n",
      "[Parallel(n_jobs=-1)]: Done  77 tasks      | elapsed:   41.9s\n",
      "[Parallel(n_jobs=-1)]: Done  90 tasks      | elapsed:   47.5s\n",
      "[Parallel(n_jobs=-1)]: Done 105 tasks      | elapsed:   50.9s\n",
      "[Parallel(n_jobs=-1)]: Done 120 tasks      | elapsed:   58.2s\n",
      "[Parallel(n_jobs=-1)]: Done 137 tasks      | elapsed:  1.1min\n",
      "[Parallel(n_jobs=-1)]: Done 154 tasks      | elapsed:  1.2min\n",
      "[Parallel(n_jobs=-1)]: Done 173 tasks      | elapsed:  1.3min\n",
      "[Parallel(n_jobs=-1)]: Done 192 tasks      | elapsed:  1.4min\n",
      "[Parallel(n_jobs=-1)]: Done 213 tasks      | elapsed:  1.5min\n",
      "[Parallel(n_jobs=-1)]: Done 234 tasks      | elapsed:  1.6min\n",
      "[Parallel(n_jobs=-1)]: Done 257 tasks      | elapsed:  1.7min\n",
      "[Parallel(n_jobs=-1)]: Done 280 tasks      | elapsed:  1.8min\n",
      "[Parallel(n_jobs=-1)]: Done 300 out of 300 | elapsed:  1.9min finished\n"
     ]
    }
   ],
   "source": [
    "params = {\n",
    "    'n_estimators' : [50,100,150,200,300,500],\n",
    "    'max_depth' : range(2,7),\n",
    "    'min_samples_split' : range(5,100),\n",
    "}\n",
    "model = RandomForestClassifier(n_estimators = 100, random_state = 42, oob_score = True) \n",
    "n_iters = 100\n",
    "clf = RandomizedSearchCV(model, params, random_state=42, verbose = 10, n_iter = n_iters, n_jobs = -1)\n",
    "search = clf.fit(train_features, train_labels)"
   ]
  },
  {
   "cell_type": "code",
   "execution_count": 17,
   "metadata": {
    "ExecuteTime": {
     "end_time": "2020-08-27T04:02:20.177699Z",
     "start_time": "2020-08-27T04:02:20.164404Z"
    }
   },
   "outputs": [
    {
     "data": {
      "text/plain": [
       "{'n_estimators': 150, 'min_samples_split': 50, 'max_depth': 6}"
      ]
     },
     "execution_count": 17,
     "metadata": {},
     "output_type": "execute_result"
    }
   ],
   "source": [
    "search.best_params_"
   ]
  },
  {
   "cell_type": "markdown",
   "metadata": {},
   "source": [
    "## Fine Grid Search"
   ]
  },
  {
   "cell_type": "code",
   "execution_count": 18,
   "metadata": {
    "ExecuteTime": {
     "end_time": "2020-08-27T04:14:17.897197Z",
     "start_time": "2020-08-27T04:02:20.181943Z"
    },
    "scrolled": true
   },
   "outputs": [
    {
     "name": "stderr",
     "output_type": "stream",
     "text": [
      "/Users/ClayElmore/anaconda3/lib/python3.6/site-packages/sklearn/model_selection/_split.py:2053: FutureWarning: You should specify a value for 'cv' instead of relying on the default value. The default value will change from 3 to 5 in version 0.22.\n",
      "  warnings.warn(CV_WARNING, FutureWarning)\n",
      "[Parallel(n_jobs=-1)]: Using backend LokyBackend with 4 concurrent workers.\n"
     ]
    },
    {
     "name": "stdout",
     "output_type": "stream",
     "text": [
      "Fitting 3 folds for each of 800 candidates, totalling 2400 fits\n"
     ]
    },
    {
     "name": "stderr",
     "output_type": "stream",
     "text": [
      "[Parallel(n_jobs=-1)]: Done   5 tasks      | elapsed:    2.7s\n",
      "[Parallel(n_jobs=-1)]: Done  10 tasks      | elapsed:    4.0s\n",
      "[Parallel(n_jobs=-1)]: Done  17 tasks      | elapsed:    6.4s\n",
      "[Parallel(n_jobs=-1)]: Done  24 tasks      | elapsed:    7.8s\n",
      "[Parallel(n_jobs=-1)]: Done  33 tasks      | elapsed:   11.6s\n",
      "[Parallel(n_jobs=-1)]: Done  42 tasks      | elapsed:   14.7s\n",
      "[Parallel(n_jobs=-1)]: Done  53 tasks      | elapsed:   19.1s\n",
      "[Parallel(n_jobs=-1)]: Done  64 tasks      | elapsed:   22.4s\n",
      "[Parallel(n_jobs=-1)]: Done  77 tasks      | elapsed:   27.3s\n",
      "[Parallel(n_jobs=-1)]: Done  90 tasks      | elapsed:   31.4s\n",
      "[Parallel(n_jobs=-1)]: Done 105 tasks      | elapsed:   36.1s\n",
      "[Parallel(n_jobs=-1)]: Done 120 tasks      | elapsed:   42.0s\n",
      "[Parallel(n_jobs=-1)]: Done 137 tasks      | elapsed:   46.9s\n",
      "[Parallel(n_jobs=-1)]: Done 154 tasks      | elapsed:   51.9s\n",
      "[Parallel(n_jobs=-1)]: Done 173 tasks      | elapsed:   57.0s\n",
      "[Parallel(n_jobs=-1)]: Done 192 tasks      | elapsed:  1.0min\n",
      "[Parallel(n_jobs=-1)]: Done 213 tasks      | elapsed:  1.1min\n",
      "[Parallel(n_jobs=-1)]: Done 234 tasks      | elapsed:  1.2min\n",
      "[Parallel(n_jobs=-1)]: Done 257 tasks      | elapsed:  1.4min\n",
      "[Parallel(n_jobs=-1)]: Done 280 tasks      | elapsed:  1.5min\n",
      "[Parallel(n_jobs=-1)]: Done 305 tasks      | elapsed:  1.6min\n",
      "[Parallel(n_jobs=-1)]: Done 330 tasks      | elapsed:  1.8min\n",
      "[Parallel(n_jobs=-1)]: Done 357 tasks      | elapsed:  2.0min\n",
      "[Parallel(n_jobs=-1)]: Done 384 tasks      | elapsed:  2.1min\n",
      "[Parallel(n_jobs=-1)]: Done 413 tasks      | elapsed:  2.2min\n",
      "[Parallel(n_jobs=-1)]: Done 442 tasks      | elapsed:  2.3min\n",
      "[Parallel(n_jobs=-1)]: Done 473 tasks      | elapsed:  2.4min\n",
      "[Parallel(n_jobs=-1)]: Done 504 tasks      | elapsed:  2.6min\n",
      "[Parallel(n_jobs=-1)]: Done 537 tasks      | elapsed:  2.7min\n",
      "[Parallel(n_jobs=-1)]: Done 570 tasks      | elapsed:  2.8min\n",
      "[Parallel(n_jobs=-1)]: Done 605 tasks      | elapsed:  2.9min\n",
      "[Parallel(n_jobs=-1)]: Done 640 tasks      | elapsed:  3.1min\n",
      "[Parallel(n_jobs=-1)]: Done 677 tasks      | elapsed:  3.2min\n",
      "[Parallel(n_jobs=-1)]: Done 714 tasks      | elapsed:  3.4min\n",
      "[Parallel(n_jobs=-1)]: Done 753 tasks      | elapsed:  3.6min\n",
      "[Parallel(n_jobs=-1)]: Done 792 tasks      | elapsed:  3.7min\n",
      "[Parallel(n_jobs=-1)]: Done 833 tasks      | elapsed:  3.9min\n",
      "[Parallel(n_jobs=-1)]: Done 874 tasks      | elapsed:  4.1min\n",
      "[Parallel(n_jobs=-1)]: Done 917 tasks      | elapsed:  4.3min\n",
      "[Parallel(n_jobs=-1)]: Done 960 tasks      | elapsed:  4.5min\n",
      "[Parallel(n_jobs=-1)]: Done 1005 tasks      | elapsed:  4.7min\n",
      "[Parallel(n_jobs=-1)]: Done 1050 tasks      | elapsed:  4.9min\n",
      "[Parallel(n_jobs=-1)]: Done 1097 tasks      | elapsed:  5.1min\n",
      "[Parallel(n_jobs=-1)]: Done 1144 tasks      | elapsed:  5.3min\n",
      "[Parallel(n_jobs=-1)]: Done 1193 tasks      | elapsed:  5.5min\n",
      "[Parallel(n_jobs=-1)]: Done 1242 tasks      | elapsed:  5.7min\n",
      "[Parallel(n_jobs=-1)]: Done 1293 tasks      | elapsed:  5.9min\n",
      "[Parallel(n_jobs=-1)]: Done 1344 tasks      | elapsed:  6.1min\n",
      "[Parallel(n_jobs=-1)]: Done 1397 tasks      | elapsed:  6.4min\n",
      "[Parallel(n_jobs=-1)]: Done 1450 tasks      | elapsed:  6.6min\n",
      "[Parallel(n_jobs=-1)]: Done 1505 tasks      | elapsed:  6.8min\n",
      "[Parallel(n_jobs=-1)]: Done 1560 tasks      | elapsed:  7.1min\n",
      "[Parallel(n_jobs=-1)]: Done 1617 tasks      | elapsed:  7.4min\n",
      "[Parallel(n_jobs=-1)]: Done 1674 tasks      | elapsed:  7.7min\n",
      "[Parallel(n_jobs=-1)]: Done 1733 tasks      | elapsed:  8.1min\n",
      "[Parallel(n_jobs=-1)]: Done 1792 tasks      | elapsed:  8.5min\n",
      "[Parallel(n_jobs=-1)]: Done 1853 tasks      | elapsed:  8.8min\n",
      "[Parallel(n_jobs=-1)]: Done 1914 tasks      | elapsed:  9.1min\n",
      "[Parallel(n_jobs=-1)]: Done 1977 tasks      | elapsed:  9.5min\n",
      "[Parallel(n_jobs=-1)]: Done 2040 tasks      | elapsed:  9.9min\n",
      "[Parallel(n_jobs=-1)]: Done 2105 tasks      | elapsed: 10.3min\n",
      "[Parallel(n_jobs=-1)]: Done 2170 tasks      | elapsed: 10.7min\n",
      "[Parallel(n_jobs=-1)]: Done 2237 tasks      | elapsed: 11.0min\n",
      "[Parallel(n_jobs=-1)]: Done 2304 tasks      | elapsed: 11.4min\n",
      "[Parallel(n_jobs=-1)]: Done 2373 tasks      | elapsed: 11.8min\n",
      "[Parallel(n_jobs=-1)]: Done 2400 out of 2400 | elapsed: 11.9min finished\n"
     ]
    }
   ],
   "source": [
    "params = {\n",
    "    'n_estimators' : range(140,160),\n",
    "    'max_depth' : range(5,7),\n",
    "    'min_samples_split' : range(40,60),\n",
    "}\n",
    "model = RandomForestClassifier(n_estimators = 100, random_state = 42, oob_score = True) \n",
    "n_iters = 100\n",
    "clf = GridSearchCV(model, params, verbose = 10, n_jobs = -1)\n",
    "search = clf.fit(train_features, train_labels)"
   ]
  },
  {
   "cell_type": "markdown",
   "metadata": {},
   "source": [
    "## Best RF Model  Results"
   ]
  },
  {
   "cell_type": "code",
   "execution_count": 19,
   "metadata": {
    "ExecuteTime": {
     "end_time": "2020-08-27T04:14:19.659346Z",
     "start_time": "2020-08-27T04:14:17.899716Z"
    }
   },
   "outputs": [
    {
     "name": "stdout",
     "output_type": "stream",
     "text": [
      "Random Forest Model Results:\n",
      "{'Test Accuracy': 0.86, 'OOB Score': 0.8545333333333334, 'Train Accuracy': 0.8594666666666667}\n"
     ]
    },
    {
     "data": {
      "image/png": "[encoded data removed]",
      "text/plain": [
       "<Figure size 432x288 with 1 Axes>"
      ]
     },
     "metadata": {
      "needs_background": "light"
     },
     "output_type": "display_data"
    },
    {
     "data": {
      "image/png": "[encoded data removed]",
      "text/plain": [
       "<Figure size 432x288 with 2 Axes>"
      ]
     },
     "metadata": {
      "needs_background": "light"
     },
     "output_type": "display_data"
    },
    {
     "data": {
      "image/png": "[encoded data removed]",
      "text/plain": [
       "<Figure size 432x288 with 1 Axes>"
      ]
     },
     "metadata": {
      "needs_background": "light"
     },
     "output_type": "display_data"
    }
   ],
   "source": [
    "weights = {'n_estimators': 150, 'min_samples_split': 50, 'max_depth': 6}\n",
    "model = RandomForestClassifier(**weights, oob_score = True) \n",
    "model.fit(train_features, train_labels)\n",
    "pred_train_labels = model.predict(train_features)\n",
    "pred_test_labels = model.predict(test_features)\n",
    "pred_test_probas = model.predict_proba(test_features)\n",
    "results = rf_results(model = model,\n",
    "                     X_test = test_features,\n",
    "                     y_pred_test = pred_test_labels, \n",
    "                     y_test = test_labels, \n",
    "                     y_pred_train = pred_train_labels, \n",
    "                     y_train = train_labels,\n",
    "                     verbose = True,\n",
    "                     plot = True\n",
    "                    )\n",
    "plot_importance(model)"
   ]
  }
 ],
 "metadata": {
  "kernelspec": {
   "display_name": "Python 3",
   "language": "python",
   "name": "python3"
  },
  "language_info": {
   "codemirror_mode": {
    "name": "ipython",
    "version": 3
   },
   "file_extension": ".py",
   "mimetype": "text/x-python",
   "name": "python",
   "nbconvert_exporter": "python",
   "pygments_lexer": "ipython3",
   "version": "3.6.8"
  },
  "toc": {
   "base_numbering": 1,
   "nav_menu": {},
   "number_sections": true,
   "sideBar": true,
   "skip_h1_title": false,
   "title_cell": "Table of Contents",
   "title_sidebar": "Contents",
   "toc_cell": false,
   "toc_position": {},
   "toc_section_display": true,
   "toc_window_display": true
  }
 },
 "nbformat": 4,
 "nbformat_minor": 4
}
