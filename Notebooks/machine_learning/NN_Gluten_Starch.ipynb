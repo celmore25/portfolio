{
 "cells": [
  {
   "cell_type": "code",
   "execution_count": 1,
   "metadata": {
    "ExecuteTime": {
     "end_time": "2020-08-29T17:09:01.797336Z",
     "start_time": "2020-08-29T17:08:59.124299Z"
    }
   },
   "outputs": [
    {
     "name": "stderr",
     "output_type": "stream",
     "text": [
      "Using TensorFlow backend.\n"
     ]
    }
   ],
   "source": [
    "import numpy as np\n",
    "import pandas as pd\n",
    "import matplotlib.pyplot as plt\n",
    "from keras.models import Sequential\n",
    "from keras.layers import Dense\n",
    "from keras.layers import LSTM\n",
    "from sklearn.preprocessing import MinMaxScaler\n",
    "from sklearn.model_selection import train_test_split\n",
    "from sklearn.metrics import mean_squared_error as mse"
   ]
  },
  {
   "cell_type": "markdown",
   "metadata": {},
   "source": [
    "# Import Data"
   ]
  },
  {
   "cell_type": "code",
   "execution_count": 2,
   "metadata": {
    "ExecuteTime": {
     "end_time": "2020-08-29T17:09:02.524302Z",
     "start_time": "2020-08-29T17:09:02.496884Z"
    }
   },
   "outputs": [],
   "source": [
    "def import_data(path):\n",
    "    \n",
    "    data = pd.read_csv(path, sep=\",\")\n",
    "    data = data.drop([2,3,4,5], axis = 0)\n",
    "    return data\n",
    "\n",
    "data = import_data('Gluten-Starch-NIR.txt')"
   ]
  },
  {
   "cell_type": "markdown",
   "metadata": {},
   "source": [
    "# Wrangle"
   ]
  },
  {
   "cell_type": "code",
   "execution_count": 3,
   "metadata": {
    "ExecuteTime": {
     "end_time": "2020-08-29T17:09:04.361589Z",
     "start_time": "2020-08-29T17:09:04.352846Z"
    }
   },
   "outputs": [],
   "source": [
    "def clean_data(data):\n",
    "    \n",
    "    # define input and output vectors\n",
    "    y = data[\"Starch\"].astype(float).values    \n",
    "    X = data.drop(['Unnamed: 0', 'Starch', 'Y,Gluten'] , axis = 1).values\n",
    "    \n",
    "    # scale and reshape dataset\n",
    "    y = np.reshape(y, (-1,1))\n",
    "    scaler_X = MinMaxScaler()\n",
    "    scaler_X.fit(X)\n",
    "    X = scaler_X.transform(X)\n",
    "    \n",
    "    # test and training set\n",
    "    X_train, X_test, y_train, y_test = train_test_split(X, y)\n",
    "    \n",
    "    return X_train, X_test, y_train, y_test\n",
    "\n",
    "X_train, X_test, y_train, y_test = clean_data(data)"
   ]
  },
  {
   "cell_type": "markdown",
   "metadata": {},
   "source": [
    "# Set Up Model"
   ]
  },
  {
   "cell_type": "code",
   "execution_count": 4,
   "metadata": {
    "ExecuteTime": {
     "end_time": "2020-08-29T17:09:06.926202Z",
     "start_time": "2020-08-29T17:09:06.785075Z"
    }
   },
   "outputs": [
    {
     "name": "stdout",
     "output_type": "stream",
     "text": [
      "WARNING:tensorflow:From /Users/ClayElmore/anaconda3/lib/python3.6/site-packages/tensorflow/python/framework/op_def_library.py:263: colocate_with (from tensorflow.python.framework.ops) is deprecated and will be removed in a future version.\n",
      "Instructions for updating:\n",
      "Colocations handled automatically by placer.\n"
     ]
    }
   ],
   "source": [
    "def define_model_sequential():\n",
    "    \n",
    "    model = Sequential()\n",
    "    model.add(Dense(1000, input_dim = X_train.shape[1], kernel_initializer='normal', activation='relu'))\n",
    "    model.add(Dense(800, activation = 'relu'))\n",
    "    model.add(Dense(800, activation = 'relu'))\n",
    "    model.add(Dense(80, activation = 'relu'))\n",
    "    model.add(Dense(1, activation = 'sigmoid'))\n",
    "    model.compile(loss = 'mse', optimizer = 'adam')\n",
    "    \n",
    "    return model\n",
    "\n",
    "model = define_model_sequential()"
   ]
  },
  {
   "cell_type": "code",
   "execution_count": 5,
   "metadata": {
    "ExecuteTime": {
     "end_time": "2020-08-29T17:09:16.023283Z",
     "start_time": "2020-08-29T17:09:16.016898Z"
    }
   },
   "outputs": [
    {
     "name": "stdout",
     "output_type": "stream",
     "text": [
      "_________________________________________________________________\n",
      "Layer (type)                 Output Shape              Param #   \n",
      "=================================================================\n",
      "dense_1 (Dense)              (None, 1000)              101000    \n",
      "_________________________________________________________________\n",
      "dense_2 (Dense)              (None, 800)               800800    \n",
      "_________________________________________________________________\n",
      "dense_3 (Dense)              (None, 800)               640800    \n",
      "_________________________________________________________________\n",
      "dense_4 (Dense)              (None, 80)                64080     \n",
      "_________________________________________________________________\n",
      "dense_5 (Dense)              (None, 1)                 81        \n",
      "=================================================================\n",
      "Total params: 1,606,761\n",
      "Trainable params: 1,606,761\n",
      "Non-trainable params: 0\n",
      "_________________________________________________________________\n"
     ]
    }
   ],
   "source": [
    "model.summary()"
   ]
  },
  {
   "cell_type": "markdown",
   "metadata": {},
   "source": [
    "# Fit Model"
   ]
  },
  {
   "cell_type": "code",
   "execution_count": 6,
   "metadata": {
    "ExecuteTime": {
     "end_time": "2020-08-29T17:14:53.293108Z",
     "start_time": "2020-08-29T17:09:25.344505Z"
    }
   },
   "outputs": [
    {
     "name": "stdout",
     "output_type": "stream",
     "text": [
      "WARNING:tensorflow:From /Users/ClayElmore/anaconda3/lib/python3.6/site-packages/tensorflow/python/ops/math_ops.py:3066: to_int32 (from tensorflow.python.ops.math_ops) is deprecated and will be removed in a future version.\n",
      "Instructions for updating:\n",
      "Use tf.cast instead.\n"
     ]
    }
   ],
   "source": [
    "def fit_model(model, X_train, y_train, verbose = 0):\n",
    "    \n",
    "    history = model.fit(X_train, y_train, epochs=400, batch_size=10,  verbose=verbose)\n",
    "    \n",
    "    return model, history\n",
    "\n",
    "model = define_model_sequential()\n",
    "model, history = fit_model(model, X_train, y_train)"
   ]
  },
  {
   "cell_type": "markdown",
   "metadata": {},
   "source": [
    "# Predict Values"
   ]
  },
  {
   "cell_type": "code",
   "execution_count": 7,
   "metadata": {
    "ExecuteTime": {
     "end_time": "2020-08-29T17:14:53.410798Z",
     "start_time": "2020-08-29T17:14:53.295608Z"
    }
   },
   "outputs": [],
   "source": [
    "y_test_pred = model.predict(X_test)"
   ]
  },
  {
   "cell_type": "markdown",
   "metadata": {},
   "source": [
    "# Calculate Results"
   ]
  },
  {
   "cell_type": "code",
   "execution_count": 8,
   "metadata": {
    "ExecuteTime": {
     "end_time": "2020-08-29T17:14:53.419470Z",
     "start_time": "2020-08-29T17:14:53.413725Z"
    }
   },
   "outputs": [],
   "source": [
    "def calc_results(y_test,y_test_pred):\n",
    "    \n",
    "    class results:\n",
    "        \n",
    "        def __init__(self):\n",
    "            self.error = np.mean(abs(y_test_pred - y_test) / np.mean(y_test))\n",
    "            self.error_list = abs(y_test_pred - y_test) / np.mean(y_test)\n",
    "            self.mse = mse(y_test, y_test_pred)\n",
    "            self.rmse = np.sqrt(self.mse)\n",
    "    \n",
    "    return results()\n",
    "\n",
    "results = calc_results(y_test,y_test_pred)"
   ]
  },
  {
   "cell_type": "markdown",
   "metadata": {},
   "source": [
    "# Display Results"
   ]
  },
  {
   "cell_type": "code",
   "execution_count": 13,
   "metadata": {
    "ExecuteTime": {
     "end_time": "2020-08-29T17:19:26.652783Z",
     "start_time": "2020-08-29T17:19:26.648356Z"
    }
   },
   "outputs": [
    {
     "name": "stdout",
     "output_type": "stream",
     "text": [
      "Error: 1.47\n"
     ]
    }
   ],
   "source": [
    "print(\"Error: %.2f\" % (results.error*100))"
   ]
  },
  {
   "cell_type": "code",
   "execution_count": 14,
   "metadata": {
    "ExecuteTime": {
     "end_time": "2020-08-29T17:19:27.590937Z",
     "start_time": "2020-08-29T17:19:27.456768Z"
    }
   },
   "outputs": [
    {
     "data": {
      "image/png": "[encoded data removed]",
      "text/plain": [
       "<Figure size 432x288 with 1 Axes>"
      ]
     },
     "metadata": {
      "needs_background": "light"
     },
     "output_type": "display_data"
    }
   ],
   "source": [
    "plt.plot(X_train[66])\n",
    "plt.show()"
   ]
  },
  {
   "cell_type": "code",
   "execution_count": 16,
   "metadata": {
    "ExecuteTime": {
     "end_time": "2020-08-29T17:20:09.464059Z",
     "start_time": "2020-08-29T17:20:09.305284Z"
    }
   },
   "outputs": [
    {
     "data": {
      "image/png": "[encoded data removed]",
      "text/plain": [
       "<Figure size 432x288 with 1 Axes>"
      ]
     },
     "metadata": {
      "needs_background": "light"
     },
     "output_type": "display_data"
    }
   ],
   "source": [
    "plt.scatter(np.arange(y_test_pred.shape[0]),y_test_pred - y_test)\n",
    "plt.show()"
   ]
  },
  {
   "cell_type": "markdown",
   "metadata": {},
   "source": [
    "# All Together"
   ]
  },
  {
   "cell_type": "code",
   "execution_count": 18,
   "metadata": {
    "ExecuteTime": {
     "end_time": "2020-08-29T17:26:48.644071Z",
     "start_time": "2020-08-29T17:21:19.755515Z"
    }
   },
   "outputs": [
    {
     "name": "stdout",
     "output_type": "stream",
     "text": [
      "Error: 3.02\n",
      "MSE 0.00\n",
      "RMSE 0.02\n"
     ]
    },
    {
     "data": {
      "image/png": "[encoded data removed]",
      "text/plain": [
       "<Figure size 432x288 with 1 Axes>"
      ]
     },
     "metadata": {
      "needs_background": "light"
     },
     "output_type": "display_data"
    }
   ],
   "source": [
    "model = define_model_sequential()\n",
    "model, history = fit_model(model, X_train, y_train)\n",
    "y_test_pred = model.predict(X_test)\n",
    "results = calc_results(y_test,y_test_pred)\n",
    "print(\"Error: %.2f\" % (results.error*100))\n",
    "print(\"MSE %.2f\" % (results.mse))\n",
    "print(\"RMSE %.2f\" % (np.sqrt(results.mse)))\n",
    "plt.scatter(np.arange(y_test_pred.shape[0]),y_test_pred - y_test)\n",
    "plt.show()"
   ]
  },
  {
   "cell_type": "code",
   "execution_count": null,
   "metadata": {},
   "outputs": [],
   "source": []
  },
  {
   "cell_type": "code",
   "execution_count": null,
   "metadata": {},
   "outputs": [],
   "source": []
  },
  {
   "cell_type": "code",
   "execution_count": null,
   "metadata": {},
   "outputs": [],
   "source": []
  }
 ],
 "metadata": {
  "kernelspec": {
   "display_name": "Python 3",
   "language": "python",
   "name": "python3"
  },
  "language_info": {
   "codemirror_mode": {
    "name": "ipython",
    "version": 3
   },
   "file_extension": ".py",
   "mimetype": "text/x-python",
   "name": "python",
   "nbconvert_exporter": "python",
   "pygments_lexer": "ipython3",
   "version": "3.6.8"
  },
  "toc": {
   "base_numbering": 1,
   "nav_menu": {},
   "number_sections": true,
   "sideBar": true,
   "skip_h1_title": false,
   "title_cell": "Table of Contents",
   "title_sidebar": "Contents",
   "toc_cell": false,
   "toc_position": {},
   "toc_section_display": true,
   "toc_window_display": false
  }
 },
 "nbformat": 4,
 "nbformat_minor": 2
}
