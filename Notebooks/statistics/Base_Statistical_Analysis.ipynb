{
 "cells": [
  {
   "cell_type": "markdown",
   "metadata": {
    "toc": true
   },
   "source": [
    "<h1>Base Statistical Analysis in Python<span class=\"tocSkip\"></span></h1>\n",
    "<div class=\"toc\"><ul class=\"toc-item\"><li><span><a href=\"#Environment\" data-toc-modified-id=\"Environment-1\"><span class=\"toc-item-num\">1&nbsp;&nbsp;</span>Environment</a></span><ul class=\"toc-item\"><li><span><a href=\"#Libraries\" data-toc-modified-id=\"Libraries-1.1\"><span class=\"toc-item-num\">1.1&nbsp;&nbsp;</span>Libraries</a></span></li><li><span><a href=\"#Data-Loading\" data-toc-modified-id=\"Data-Loading-1.2\"><span class=\"toc-item-num\">1.2&nbsp;&nbsp;</span>Data Loading</a></span></li></ul></li><li><span><a href=\"#Correlation\" data-toc-modified-id=\"Correlation-2\"><span class=\"toc-item-num\">2&nbsp;&nbsp;</span>Correlation</a></span><ul class=\"toc-item\"><li><span><a href=\"#Continuous-Variables\" data-toc-modified-id=\"Continuous-Variables-2.1\"><span class=\"toc-item-num\">2.1&nbsp;&nbsp;</span>Continuous Variables</a></span></li><li><span><a href=\"#Categorical-Variables\" data-toc-modified-id=\"Categorical-Variables-2.2\"><span class=\"toc-item-num\">2.2&nbsp;&nbsp;</span>Categorical Variables</a></span></li></ul></li><li><span><a href=\"#Hypothesis-Testing\" data-toc-modified-id=\"Hypothesis-Testing-3\"><span class=\"toc-item-num\">3&nbsp;&nbsp;</span>Hypothesis Testing</a></span><ul class=\"toc-item\"><li><span><a href=\"#T-Tests\" data-toc-modified-id=\"T-Tests-3.1\"><span class=\"toc-item-num\">3.1&nbsp;&nbsp;</span>T-Tests</a></span></li><li><span><a href=\"#Chi-Squared-Test\" data-toc-modified-id=\"Chi-Squared-Test-3.2\"><span class=\"toc-item-num\">3.2&nbsp;&nbsp;</span>Chi-Squared Test</a></span></li></ul></li><li><span><a href=\"#Regression-Metric-Quantification\" data-toc-modified-id=\"Regression-Metric-Quantification-4\"><span class=\"toc-item-num\">4&nbsp;&nbsp;</span>Regression Metric Quantification</a></span><ul class=\"toc-item\"><li><span><a href=\"#Model-Creation\" data-toc-modified-id=\"Model-Creation-4.1\"><span class=\"toc-item-num\">4.1&nbsp;&nbsp;</span>Model Creation</a></span></li><li><span><a href=\"#$R^2$-Metric\" data-toc-modified-id=\"$R^2$-Metric-4.2\"><span class=\"toc-item-num\">4.2&nbsp;&nbsp;</span>$R^2$ Metric</a></span></li><li><span><a href=\"#Other-Regression-Metrics\" data-toc-modified-id=\"Other-Regression-Metrics-4.3\"><span class=\"toc-item-num\">4.3&nbsp;&nbsp;</span>Other Regression Metrics</a></span></li></ul></li><li><span><a href=\"#Classification-Metric-Quantification\" data-toc-modified-id=\"Classification-Metric-Quantification-5\"><span class=\"toc-item-num\">5&nbsp;&nbsp;</span>Classification Metric Quantification</a></span><ul class=\"toc-item\"><li><span><a href=\"#Accuracy-vs.-Precision\" data-toc-modified-id=\"Accuracy-vs.-Precision-5.1\"><span class=\"toc-item-num\">5.1&nbsp;&nbsp;</span>Accuracy vs. Precision</a></span></li><li><span><a href=\"#Confusion-Matricies\" data-toc-modified-id=\"Confusion-Matricies-5.2\"><span class=\"toc-item-num\">5.2&nbsp;&nbsp;</span>Confusion Matricies</a></span></li><li><span><a href=\"#AUC-ROC-Curves\" data-toc-modified-id=\"AUC-ROC-Curves-5.3\"><span class=\"toc-item-num\">5.3&nbsp;&nbsp;</span>AUC-ROC Curves</a></span></li></ul></li><li><span><a href=\"#Distributions\" data-toc-modified-id=\"Distributions-6\"><span class=\"toc-item-num\">6&nbsp;&nbsp;</span>Distributions</a></span><ul class=\"toc-item\"><li><span><a href=\"#Normal-Distributions\" data-toc-modified-id=\"Normal-Distributions-6.1\"><span class=\"toc-item-num\">6.1&nbsp;&nbsp;</span>Normal Distributions</a></span></li><li><span><a href=\"#Skewed-Distributions\" data-toc-modified-id=\"Skewed-Distributions-6.2\"><span class=\"toc-item-num\">6.2&nbsp;&nbsp;</span>Skewed Distributions</a></span></li></ul></li><li><span><a href=\"#Bayesian-Statistics\" data-toc-modified-id=\"Bayesian-Statistics-7\"><span class=\"toc-item-num\">7&nbsp;&nbsp;</span>Bayesian Statistics</a></span><ul class=\"toc-item\"><li><span><a href=\"#Probabilities\" data-toc-modified-id=\"Probabilities-7.1\"><span class=\"toc-item-num\">7.1&nbsp;&nbsp;</span>Probabilities</a></span></li></ul></li></ul></div>"
   ]
  },
  {
   "cell_type": "markdown",
   "metadata": {},
   "source": [
    "# Environment"
   ]
  },
  {
   "cell_type": "markdown",
   "metadata": {},
   "source": [
    "## Libraries"
   ]
  },
  {
   "cell_type": "code",
   "execution_count": 143,
   "metadata": {
    "ExecuteTime": {
     "end_time": "2020-10-07T22:52:15.934262Z",
     "start_time": "2020-10-07T22:52:15.928380Z"
    }
   },
   "outputs": [],
   "source": [
    "import numpy as np\n",
    "import pandas as pd\n",
    "import scipy\n",
    "\n",
    "from sklearn.linear_model import LinearRegression\n",
    "from sklearn import metrics\n",
    "from sklearn.ensemble import RandomForestClassifier\n",
    "from sklearn.model_selection import train_test_split\n",
    "\n",
    "from matplotlib import pyplot as plt\n",
    "import matplotlib\n",
    "matplotlib.style.use('fivethirtyeight')\n",
    "import seaborn as sn\n",
    "from scikitplot.metrics import plot_confusion_matrix, plot_precision_recall"
   ]
  },
  {
   "cell_type": "markdown",
   "metadata": {},
   "source": [
    "## Data Loading"
   ]
  },
  {
   "cell_type": "code",
   "execution_count": 90,
   "metadata": {
    "ExecuteTime": {
     "end_time": "2020-10-07T22:37:25.590671Z",
     "start_time": "2020-10-07T22:37:25.558484Z"
    }
   },
   "outputs": [],
   "source": [
    "df = pd.read_csv('/Users/ClayElmore/Desktop/gitClay/My_Learning_General_ML_/datasets/datasets_729058_1265963_Churn_Modelling.csv')\n",
    "drop_cols = ['RowNumber','CustomerId','Surname']\n",
    "cont_cols = ['CreditScore', 'Age', 'Tenure', 'Balance', 'NumOfProducts', 'EstimatedSalary']\n",
    "cat_cols = ['HasCrCard','IsActiveMember', 'Geography', 'Gender']\n",
    "y_var = ['Exited']\n",
    "df = df.drop(drop_cols, axis=1)"
   ]
  },
  {
   "cell_type": "markdown",
   "metadata": {},
   "source": [
    "# Correlation"
   ]
  },
  {
   "cell_type": "markdown",
   "metadata": {},
   "source": [
    "## Continuous Variables"
   ]
  },
  {
   "cell_type": "code",
   "execution_count": 91,
   "metadata": {
    "ExecuteTime": {
     "end_time": "2020-10-07T22:37:32.972012Z",
     "start_time": "2020-10-07T22:37:32.954800Z"
    }
   },
   "outputs": [
    {
     "data": {
      "text/html": [
       "<div>\n",
       "<style scoped>\n",
       "    .dataframe tbody tr th:only-of-type {\n",
       "        vertical-align: middle;\n",
       "    }\n",
       "\n",
       "    .dataframe tbody tr th {\n",
       "        vertical-align: top;\n",
       "    }\n",
       "\n",
       "    .dataframe thead th {\n",
       "        text-align: right;\n",
       "    }\n",
       "</style>\n",
       "<table border=\"1\" class=\"dataframe\">\n",
       "  <thead>\n",
       "    <tr style=\"text-align: right;\">\n",
       "      <th></th>\n",
       "      <th>CreditScore</th>\n",
       "      <th>Age</th>\n",
       "      <th>Tenure</th>\n",
       "      <th>Balance</th>\n",
       "      <th>NumOfProducts</th>\n",
       "      <th>EstimatedSalary</th>\n",
       "      <th>Exited</th>\n",
       "    </tr>\n",
       "  </thead>\n",
       "  <tbody>\n",
       "    <tr>\n",
       "      <th>CreditScore</th>\n",
       "      <td>1.000000</td>\n",
       "      <td>-0.003965</td>\n",
       "      <td>0.000842</td>\n",
       "      <td>0.006268</td>\n",
       "      <td>0.012238</td>\n",
       "      <td>-0.001384</td>\n",
       "      <td>-0.027094</td>\n",
       "    </tr>\n",
       "    <tr>\n",
       "      <th>Age</th>\n",
       "      <td>-0.003965</td>\n",
       "      <td>1.000000</td>\n",
       "      <td>-0.009997</td>\n",
       "      <td>0.028308</td>\n",
       "      <td>-0.030680</td>\n",
       "      <td>-0.007201</td>\n",
       "      <td>0.285323</td>\n",
       "    </tr>\n",
       "    <tr>\n",
       "      <th>Tenure</th>\n",
       "      <td>0.000842</td>\n",
       "      <td>-0.009997</td>\n",
       "      <td>1.000000</td>\n",
       "      <td>-0.012254</td>\n",
       "      <td>0.013444</td>\n",
       "      <td>0.007784</td>\n",
       "      <td>-0.014001</td>\n",
       "    </tr>\n",
       "    <tr>\n",
       "      <th>Balance</th>\n",
       "      <td>0.006268</td>\n",
       "      <td>0.028308</td>\n",
       "      <td>-0.012254</td>\n",
       "      <td>1.000000</td>\n",
       "      <td>-0.304180</td>\n",
       "      <td>0.012797</td>\n",
       "      <td>0.118533</td>\n",
       "    </tr>\n",
       "    <tr>\n",
       "      <th>NumOfProducts</th>\n",
       "      <td>0.012238</td>\n",
       "      <td>-0.030680</td>\n",
       "      <td>0.013444</td>\n",
       "      <td>-0.304180</td>\n",
       "      <td>1.000000</td>\n",
       "      <td>0.014204</td>\n",
       "      <td>-0.047820</td>\n",
       "    </tr>\n",
       "    <tr>\n",
       "      <th>EstimatedSalary</th>\n",
       "      <td>-0.001384</td>\n",
       "      <td>-0.007201</td>\n",
       "      <td>0.007784</td>\n",
       "      <td>0.012797</td>\n",
       "      <td>0.014204</td>\n",
       "      <td>1.000000</td>\n",
       "      <td>0.012097</td>\n",
       "    </tr>\n",
       "    <tr>\n",
       "      <th>Exited</th>\n",
       "      <td>-0.027094</td>\n",
       "      <td>0.285323</td>\n",
       "      <td>-0.014001</td>\n",
       "      <td>0.118533</td>\n",
       "      <td>-0.047820</td>\n",
       "      <td>0.012097</td>\n",
       "      <td>1.000000</td>\n",
       "    </tr>\n",
       "  </tbody>\n",
       "</table>\n",
       "</div>"
      ],
      "text/plain": [
       "                 CreditScore       Age    Tenure   Balance  NumOfProducts  \\\n",
       "CreditScore         1.000000 -0.003965  0.000842  0.006268       0.012238   \n",
       "Age                -0.003965  1.000000 -0.009997  0.028308      -0.030680   \n",
       "Tenure              0.000842 -0.009997  1.000000 -0.012254       0.013444   \n",
       "Balance             0.006268  0.028308 -0.012254  1.000000      -0.304180   \n",
       "NumOfProducts       0.012238 -0.030680  0.013444 -0.304180       1.000000   \n",
       "EstimatedSalary    -0.001384 -0.007201  0.007784  0.012797       0.014204   \n",
       "Exited             -0.027094  0.285323 -0.014001  0.118533      -0.047820   \n",
       "\n",
       "                 EstimatedSalary    Exited  \n",
       "CreditScore            -0.001384 -0.027094  \n",
       "Age                    -0.007201  0.285323  \n",
       "Tenure                  0.007784 -0.014001  \n",
       "Balance                 0.012797  0.118533  \n",
       "NumOfProducts           0.014204 -0.047820  \n",
       "EstimatedSalary         1.000000  0.012097  \n",
       "Exited                  0.012097  1.000000  "
      ]
     },
     "execution_count": 91,
     "metadata": {},
     "output_type": "execute_result"
    }
   ],
   "source": [
    "df[cont_cols + y_var].corr()"
   ]
  },
  {
   "cell_type": "code",
   "execution_count": 93,
   "metadata": {
    "ExecuteTime": {
     "end_time": "2020-10-07T22:37:44.337389Z",
     "start_time": "2020-10-07T22:37:44.135049Z"
    }
   },
   "outputs": [
    {
     "data": {
      "image/png": "[encoded data removed]",
      "text/plain": [
       "<Figure size 432x288 with 2 Axes>"
      ]
     },
     "metadata": {},
     "output_type": "display_data"
    }
   ],
   "source": [
    "sn.heatmap(df[cont_cols+y_var].corr())\n",
    "plt.show()"
   ]
  },
  {
   "cell_type": "markdown",
   "metadata": {},
   "source": [
    "## Categorical Variables"
   ]
  },
  {
   "cell_type": "markdown",
   "metadata": {},
   "source": [
    "# Hypothesis Testing"
   ]
  },
  {
   "cell_type": "markdown",
   "metadata": {},
   "source": [
    "## T-Tests"
   ]
  },
  {
   "cell_type": "code",
   "execution_count": 98,
   "metadata": {
    "ExecuteTime": {
     "end_time": "2020-10-07T22:38:20.715754Z",
     "start_time": "2020-10-07T22:38:20.709366Z"
    }
   },
   "outputs": [],
   "source": [
    "group1 = df.sample(1000).EstimatedSalary\n",
    "group2 = df.sample(1000).EstimatedSalary"
   ]
  },
  {
   "cell_type": "code",
   "execution_count": 99,
   "metadata": {
    "ExecuteTime": {
     "end_time": "2020-10-07T22:38:21.277227Z",
     "start_time": "2020-10-07T22:38:21.269902Z"
    }
   },
   "outputs": [
    {
     "data": {
      "text/plain": [
       "Ttest_indResult(statistic=-0.3088066505163061, pvalue=0.7575008051278113)"
      ]
     },
     "execution_count": 99,
     "metadata": {},
     "output_type": "execute_result"
    }
   ],
   "source": [
    "scipy.stats.ttest_ind(group1, group2, equal_var=True)"
   ]
  },
  {
   "cell_type": "markdown",
   "metadata": {},
   "source": [
    "Large p value indicates that we cannot reject the hull hypothesis of similar means"
   ]
  },
  {
   "cell_type": "markdown",
   "metadata": {},
   "source": [
    "## Chi-Squared Test"
   ]
  },
  {
   "cell_type": "code",
   "execution_count": 101,
   "metadata": {
    "ExecuteTime": {
     "end_time": "2020-10-07T22:39:10.580585Z",
     "start_time": "2020-10-07T22:39:10.570413Z"
    }
   },
   "outputs": [],
   "source": [
    "count1 = df.sample(5000).Geography.value_counts()*2\n",
    "count2 = df.Geography.value_counts().loc[count1.index]"
   ]
  },
  {
   "cell_type": "code",
   "execution_count": 102,
   "metadata": {
    "ExecuteTime": {
     "end_time": "2020-10-07T22:39:11.904195Z",
     "start_time": "2020-10-07T22:39:11.898074Z"
    }
   },
   "outputs": [
    {
     "data": {
      "text/plain": [
       "Power_divergenceResult(statistic=0.9900245665962375, pvalue=0.6095634198011162)"
      ]
     },
     "execution_count": 102,
     "metadata": {},
     "output_type": "execute_result"
    }
   ],
   "source": [
    "scipy.stats.chisquare(count1, count2)"
   ]
  },
  {
   "cell_type": "markdown",
   "metadata": {},
   "source": [
    "Large p value means we cannot reject the null hypothesis of correct sampling"
   ]
  },
  {
   "cell_type": "markdown",
   "metadata": {},
   "source": [
    "# Regression Metric Quantification"
   ]
  },
  {
   "cell_type": "markdown",
   "metadata": {},
   "source": [
    "## Model Creation"
   ]
  },
  {
   "cell_type": "code",
   "execution_count": 110,
   "metadata": {
    "ExecuteTime": {
     "end_time": "2020-10-07T22:41:50.850448Z",
     "start_time": "2020-10-07T22:41:50.836230Z"
    }
   },
   "outputs": [],
   "source": [
    "dfl = pd.read_csv('../../datasets/portland.csv')\n",
    "dfl.columns = ['sf', 'br', 'price']\n",
    "model = LinearRegression()\n",
    "model.fit(dfl[['sf', 'br']], dfl.price)\n",
    "pred = model.predict(dfl[['sf', 'br']])"
   ]
  },
  {
   "cell_type": "markdown",
   "metadata": {},
   "source": [
    "## $R^2$ Metric"
   ]
  },
  {
   "cell_type": "code",
   "execution_count": 111,
   "metadata": {
    "ExecuteTime": {
     "end_time": "2020-10-07T22:41:54.224151Z",
     "start_time": "2020-10-07T22:41:54.219260Z"
    }
   },
   "outputs": [
    {
     "name": "stdout",
     "output_type": "stream",
     "text": [
      "R^2: 0.7343207791741682\n"
     ]
    }
   ],
   "source": [
    "print(f'R^2: {metrics.r2_score(dfl.price, pred)}')"
   ]
  },
  {
   "cell_type": "markdown",
   "metadata": {},
   "source": [
    "## Other Regression Metrics"
   ]
  },
  {
   "cell_type": "code",
   "execution_count": 112,
   "metadata": {
    "ExecuteTime": {
     "end_time": "2020-10-07T22:41:55.506100Z",
     "start_time": "2020-10-07T22:41:55.500979Z"
    }
   },
   "outputs": [
    {
     "name": "stdout",
     "output_type": "stream",
     "text": [
      "MAE : 51589.45\n",
      "RMSE: 64288.46\n"
     ]
    }
   ],
   "source": [
    "print(f'MAE : {metrics.mean_absolute_error(dfl.price, pred):.2f}')\n",
    "print(f'RMSE: {np.sqrt(metrics.mean_squared_error(dfl.price, pred)):.2f}')"
   ]
  },
  {
   "cell_type": "markdown",
   "metadata": {},
   "source": [
    "# Classification Metric Quantification"
   ]
  },
  {
   "cell_type": "code",
   "execution_count": 189,
   "metadata": {
    "ExecuteTime": {
     "end_time": "2020-10-07T23:01:36.026274Z",
     "start_time": "2020-10-07T23:01:34.841136Z"
    },
    "scrolled": true
   },
   "outputs": [
    {
     "name": "stderr",
     "output_type": "stream",
     "text": [
      "/Users/ClayElmore/anaconda3/lib/python3.6/site-packages/ipykernel_launcher.py:3: DataConversionWarning: A column-vector y was passed when a 1d array was expected. Please change the shape of y to (n_samples,), for example using ravel().\n",
      "  This is separate from the ipykernel package so we can avoid doing imports until\n"
     ]
    }
   ],
   "source": [
    "train, test = train_test_split(df)\n",
    "rf = RandomForestClassifier(class_weight='balanced_subsample')\n",
    "rf.fit(train[cont_cols], train[y_var])\n",
    "pred = rf.predict(test[cont_cols])\n",
    "prob = rf.predict_proba(test[cont_cols])"
   ]
  },
  {
   "cell_type": "markdown",
   "metadata": {},
   "source": [
    "## Accuracy vs. Precision"
   ]
  },
  {
   "cell_type": "code",
   "execution_count": 190,
   "metadata": {
    "ExecuteTime": {
     "end_time": "2020-10-07T23:01:36.053118Z",
     "start_time": "2020-10-07T23:01:36.028782Z"
    }
   },
   "outputs": [
    {
     "name": "stdout",
     "output_type": "stream",
     "text": [
      "Accuracy : 82.48%\n",
      "Precision: 67.91%\n"
     ]
    }
   ],
   "source": [
    "print(f'Accuracy : {metrics.accuracy_score(test[y_var], pred)*100:.2f}%')\n",
    "print(f'Precision: {metrics.precision_score(test[y_var], pred)*100:.2f}%')"
   ]
  },
  {
   "cell_type": "markdown",
   "metadata": {},
   "source": [
    "## Confusion Matricies"
   ]
  },
  {
   "cell_type": "code",
   "execution_count": 191,
   "metadata": {
    "ExecuteTime": {
     "end_time": "2020-10-07T23:01:37.398431Z",
     "start_time": "2020-10-07T23:01:37.385445Z"
    }
   },
   "outputs": [
    {
     "data": {
      "text/plain": [
       "array([[74.44,  3.8 ],\n",
       "       [13.72,  8.04]])"
      ]
     },
     "execution_count": 191,
     "metadata": {},
     "output_type": "execute_result"
    }
   ],
   "source": [
    "metrics.confusion_matrix(test[y_var], pred) / pred.shape[0] * 100"
   ]
  },
  {
   "cell_type": "code",
   "execution_count": 192,
   "metadata": {
    "ExecuteTime": {
     "end_time": "2020-10-07T23:01:38.248427Z",
     "start_time": "2020-10-07T23:01:38.080590Z"
    }
   },
   "outputs": [
    {
     "data": {
      "image/png": "[encoded data removed]",
      "text/plain": [
       "<Figure size 432x288 with 2 Axes>"
      ]
     },
     "metadata": {},
     "output_type": "display_data"
    }
   ],
   "source": [
    "plot_confusion_matrix(test[y_var], pred)\n",
    "plt.show()"
   ]
  },
  {
   "cell_type": "markdown",
   "metadata": {},
   "source": [
    "## AUC-ROC Curves"
   ]
  },
  {
   "cell_type": "code",
   "execution_count": 193,
   "metadata": {
    "ExecuteTime": {
     "end_time": "2020-10-07T23:01:43.750725Z",
     "start_time": "2020-10-07T23:01:43.519939Z"
    }
   },
   "outputs": [
    {
     "data": {
      "image/png": "[encoded data removed]",
      "text/plain": [
       "<Figure size 432x288 with 1 Axes>"
      ]
     },
     "metadata": {},
     "output_type": "display_data"
    }
   ],
   "source": [
    "fig, ax = plt.subplots()\n",
    "plot_precision_recall(test[y_var], prob, ax=ax)\n",
    "ax.legend(bbox_to_anchor=(1,1))\n",
    "plt.show()"
   ]
  },
  {
   "cell_type": "markdown",
   "metadata": {},
   "source": [
    "# Distributions"
   ]
  },
  {
   "cell_type": "markdown",
   "metadata": {},
   "source": [
    "## Normal Distributions"
   ]
  },
  {
   "cell_type": "code",
   "execution_count": null,
   "metadata": {},
   "outputs": [],
   "source": []
  },
  {
   "cell_type": "markdown",
   "metadata": {},
   "source": [
    "## Skewed Distributions"
   ]
  },
  {
   "cell_type": "code",
   "execution_count": null,
   "metadata": {},
   "outputs": [],
   "source": []
  },
  {
   "cell_type": "markdown",
   "metadata": {},
   "source": [
    "# Bayesian Statistics"
   ]
  },
  {
   "cell_type": "markdown",
   "metadata": {},
   "source": [
    "## Probabilities"
   ]
  },
  {
   "cell_type": "code",
   "execution_count": null,
   "metadata": {},
   "outputs": [],
   "source": []
  }
 ],
 "metadata": {
  "kernelspec": {
   "display_name": "Python 3",
   "language": "python",
   "name": "python3"
  },
  "language_info": {
   "codemirror_mode": {
    "name": "ipython",
    "version": 3
   },
   "file_extension": ".py",
   "mimetype": "text/x-python",
   "name": "python",
   "nbconvert_exporter": "python",
   "pygments_lexer": "ipython3",
   "version": "3.6.8"
  },
  "toc": {
   "base_numbering": 1,
   "nav_menu": {},
   "number_sections": true,
   "sideBar": true,
   "skip_h1_title": false,
   "title_cell": "Base Statistical Analysis in Python",
   "title_sidebar": "Contents",
   "toc_cell": true,
   "toc_position": {},
   "toc_section_display": true,
   "toc_window_display": true
  }
 },
 "nbformat": 4,
 "nbformat_minor": 2
}
